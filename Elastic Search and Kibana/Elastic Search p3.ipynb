{
 "cells": [
  {
   "cell_type": "code",
   "execution_count": 6,
   "metadata": {},
   "outputs": [],
   "source": [
    "import os\n",
    "from elasticsearch import Elasticsearch, helpers, NotFoundError\n",
    "import json\n",
    "from datetime import datetime"
   ]
  },
  {
   "cell_type": "code",
   "execution_count": 3,
   "metadata": {},
   "outputs": [],
   "source": [
    "client = Elasticsearch(\"http://localhost:9200\", \\\n",
    "                       basic_auth=(\"elastic\", \"tRjeGQw7\"))"
   ]
  },
  {
   "cell_type": "code",
   "execution_count": 109,
   "metadata": {},
   "outputs": [
    {
     "data": {
      "text/plain": [
       "ObjectApiResponse({'name': '4b1fa41a41cc', 'cluster_name': 'docker-cluster', 'cluster_uuid': 'cHkDnSXHQ4eRsYCNEolotA', 'version': {'number': '8.17.3', 'build_flavor': 'default', 'build_type': 'docker', 'build_hash': 'a091390de485bd4b127884f7e565c0cad59b10d2', 'build_date': '2025-02-28T10:07:26.089129809Z', 'build_snapshot': False, 'lucene_version': '9.12.0', 'minimum_wire_compatibility_version': '7.17.0', 'minimum_index_compatibility_version': '7.0.0'}, 'tagline': 'You Know, for Search'})"
      ]
     },
     "execution_count": 109,
     "metadata": {},
     "output_type": "execute_result"
    }
   ],
   "source": [
    "madmap = \"madmap\"\n",
    "client.info()"
   ]
  },
  {
   "cell_type": "markdown",
   "metadata": {},
   "source": [
    "#  Section 1: Loading Different Types of Data #"
   ]
  },
  {
   "cell_type": "markdown",
   "metadata": {},
   "source": [
    "#### Q1"
   ]
  },
  {
   "cell_type": "code",
   "execution_count": 5,
   "metadata": {},
   "outputs": [
    {
     "data": {
      "text/plain": [
       "{'cluster_name': 'docker-cluster',\n",
       " 'status': 'yellow',\n",
       " 'timed_out': False,\n",
       " 'number_of_nodes': 1,\n",
       " 'number_of_data_nodes': 1}"
      ]
     },
     "execution_count": 5,
     "metadata": {},
     "output_type": "execute_result"
    }
   ],
   "source": [
    "health_info = client.cluster.health()\n",
    "\n",
    "response = dict(list(health_info.items())[:5])\n",
    "with open('answers/q1.json', 'w') as f:\n",
    "    json.dump(dict(response), f,indent=4)\n",
    "response\n",
    "    "
   ]
  },
  {
   "cell_type": "markdown",
   "metadata": {},
   "source": [
    "#### Q2"
   ]
  },
  {
   "cell_type": "code",
   "execution_count": 24,
   "metadata": {},
   "outputs": [
    {
     "data": {
      "text/plain": [
       "ObjectApiResponse({'acknowledged': True, 'shards_acknowledged': True, 'index': 'madmap'})"
      ]
     },
     "execution_count": 24,
     "metadata": {},
     "output_type": "execute_result"
    }
   ],
   "source": [
    "madmap = \"madmap\"\n",
    "client.indices.create(index=madmap)"
   ]
  },
  {
   "cell_type": "code",
   "execution_count": 21,
   "metadata": {},
   "outputs": [
    {
     "data": {
      "text/plain": [
       "['locs.json', 'halloween.json', 'places.json', 'news_madison.json']"
      ]
     },
     "execution_count": 21,
     "metadata": {},
     "output_type": "execute_result"
    }
   ],
   "source": [
    "json_data_dir= \"data/jsons\"\n",
    "json_files=[f for f in os.listdir(json_data_dir) if \".json\" in f]  \n",
    "json_files  "
   ]
  },
  {
   "cell_type": "code",
   "execution_count": null,
   "metadata": {},
   "outputs": [
    {
     "data": {
      "text/plain": [
       "(307, [])"
      ]
     },
     "execution_count": 26,
     "metadata": {},
     "output_type": "execute_result"
    }
   ],
   "source": [
    "#bulk load locs.json\n",
    "with open(os.path.join(json_data_dir, \"locs.json\"),'r') as file:\n",
    "        data = json.load(file)\n",
    "places = data[\"places\"]\n",
    "operations = [\n",
    "        {\"_index\": madmap, \"_source\": place}\n",
    "        for place in places\n",
    "]\n",
    "helpers.bulk(client,operations)"
   ]
  },
  {
   "cell_type": "code",
   "execution_count": 27,
   "metadata": {},
   "outputs": [
    {
     "data": {
      "text/plain": [
       "(19, [])"
      ]
     },
     "execution_count": 27,
     "metadata": {},
     "output_type": "execute_result"
    }
   ],
   "source": [
    "#bulk load halloween.json\n",
    "with open(os.path.join(json_data_dir, \"halloween.json\"),'r') as file:\n",
    "        data = json.load(file)\n",
    "arrests = data[\"arrests\"]\n",
    "operations = [\n",
    "        {\"_index\": madmap, \"_source\": arrest}\n",
    "        for arrest in arrests\n",
    "]\n",
    "helpers.bulk(client,operations)\n"
   ]
  },
  {
   "cell_type": "code",
   "execution_count": 28,
   "metadata": {},
   "outputs": [
    {
     "data": {
      "text/plain": [
       "(201, [])"
      ]
     },
     "execution_count": 28,
     "metadata": {},
     "output_type": "execute_result"
    }
   ],
   "source": [
    "#bulk load news_madison.json\n",
    "with open(os.path.join(json_data_dir, \"news_madison.json\"),'r') as file:\n",
    "        data = json.load(file)\n",
    "articles = data[\"articles\"]\n",
    "operations = [\n",
    "        {\"_index\": madmap, \"_source\": article}\n",
    "        for article in articles\n",
    "]\n",
    "helpers.bulk(client,operations)"
   ]
  },
  {
   "cell_type": "code",
   "execution_count": 34,
   "metadata": {},
   "outputs": [
    {
     "data": {
      "text/plain": [
       "ObjectApiResponse({'madmap': {'mappings': {'properties': {'WhenIsItHappening': {'type': 'text', 'fields': {'keyword': {'type': 'keyword', 'ignore_above': 256}}}, 'arrests': {'type': 'long'}, 'attended': {'type': 'long'}, 'author': {'type': 'text', 'fields': {'keyword': {'type': 'keyword', 'ignore_above': 256}}}, 'content': {'type': 'text', 'fields': {'keyword': {'type': 'keyword', 'ignore_above': 256}}}, 'coordinates': {'type': 'text', 'fields': {'keyword': {'type': 'keyword', 'ignore_above': 256}}}, 'description': {'type': 'text', 'fields': {'keyword': {'type': 'keyword', 'ignore_above': 256}}}, 'formattedAddress': {'type': 'text', 'fields': {'keyword': {'type': 'keyword', 'ignore_above': 256}}}, 'geoLocation': {'type': 'text', 'fields': {'keyword': {'type': 'keyword', 'ignore_above': 256}}}, 'name': {'type': 'text', 'fields': {'keyword': {'type': 'keyword', 'ignore_above': 256}}}, 'place_id': {'type': 'text', 'fields': {'keyword': {'type': 'keyword', 'ignore_above': 256}}}, 'place_type': {'type': 'text', 'fields': {'keyword': {'type': 'keyword', 'ignore_above': 256}}}, 'priceLevel': {'type': 'text', 'fields': {'keyword': {'type': 'keyword', 'ignore_above': 256}}}, 'publishedAt': {'type': 'date'}, 'source': {'properties': {'id': {'type': 'text', 'fields': {'keyword': {'type': 'keyword', 'ignore_above': 256}}}, 'name': {'type': 'text', 'fields': {'keyword': {'type': 'keyword', 'ignore_above': 256}}}}}, 'title': {'type': 'text', 'fields': {'keyword': {'type': 'keyword', 'ignore_above': 256}}}, 'url': {'type': 'text', 'fields': {'keyword': {'type': 'keyword', 'ignore_above': 256}}}, 'urlToImage': {'type': 'text', 'fields': {'keyword': {'type': 'keyword', 'ignore_above': 256}}}, 'year': {'type': 'long'}}}}})"
      ]
     },
     "execution_count": 34,
     "metadata": {},
     "output_type": "execute_result"
    }
   ],
   "source": [
    "mapping =client.indices.get_mapping(index=madmap)\n",
    "with open('answers/q2.json', 'w') as f:\n",
    "    json.dump(dict(mapping), f,indent=4)\n",
    "mapping"
   ]
  },
  {
   "cell_type": "markdown",
   "metadata": {},
   "source": [
    "#### Q3"
   ]
  },
  {
   "cell_type": "code",
   "execution_count": 37,
   "metadata": {},
   "outputs": [
    {
     "data": {
      "text/plain": [
       "(10, [])"
      ]
     },
     "execution_count": 37,
     "metadata": {},
     "output_type": "execute_result"
    }
   ],
   "source": [
    "txt_dir = \"data/text\"\n",
    "txt_files = [f for f in os.listdir(txt_dir) if \".txt\" in f]\n",
    "documents = []\n",
    "for txt in txt_files:\n",
    "    with open(os.path.join(txt_dir,txt),\"r\") as f:\n",
    "        data = f.read()\n",
    "        document= {\"wiki\": str(data)}\n",
    "        documents.append(document)\n",
    "helpers.bulk(client,documents, index = madmap)"
   ]
  },
  {
   "cell_type": "code",
   "execution_count": 39,
   "metadata": {},
   "outputs": [],
   "source": [
    "mapping = client.indices.get_mapping(index=madmap)\n",
    "with open('answers/q3.json', 'w') as f:\n",
    "    json.dump(dict(mapping),f,indent=4)"
   ]
  },
  {
   "cell_type": "markdown",
   "metadata": {},
   "source": [
    "# Section 2: Madison and UW-M Trivia!"
   ]
  },
  {
   "cell_type": "markdown",
   "metadata": {},
   "source": [
    "#### Q4"
   ]
  },
  {
   "cell_type": "code",
   "execution_count": 25,
   "metadata": {},
   "outputs": [
    {
     "name": "stdout",
     "output_type": "stream",
     "text": [
      "University of Wisconsin–Madison, 2000 University Bay Dr, Madison, WI 53705, USA\n",
      "University of Wisconsin–Madison, 2000 University Bay Dr, Madison, WI 53705, USA\n",
      "800 University Ave, Madison, WI 53706, USA\n",
      "975 University Ave, Madison, WI 53706, USA\n",
      "624 University Ave, Madison, WI 53715, USA\n",
      "800 University Ave, Madison, WI 53706, USA\n",
      "1150 University Ave, Madison, WI 53706, USA\n",
      "602 University Ave, Madison, WI 53715, USA\n",
      "2840 University Ave, Madison, WI 53705, USA\n",
      "610 University Ave, Madison, WI 53715, USA\n",
      "3650 University Ave, Madison, WI 53705, USA\n",
      "2862 University Ave, Madison, WI 53705, USA\n",
      "800 University Ave, Madison, WI 53706, USA\n",
      "1150 University Ave, Madison, WI 53706, USA\n",
      "703 University Ave, Madison, WI 53715, USA\n",
      "6825 University Ave, Middleton, WI 53562, USA\n",
      "3401 University Ave, Madison, WI 53705, USA\n",
      "2000 University Bay Dr, Madison, WI 53705, USA\n",
      "2000 University Bay Dr, Madison, WI 53705, USA\n",
      "2107, Mechanical Engineering Building, 1513 University Ave, Madison, WI 53706, USA\n"
     ]
    }
   ],
   "source": [
    "response = client.search(\n",
    "    index = madmap,\n",
    "    body = {\n",
    "        \"query\": {\n",
    "            \"match\": {\n",
    "                \"formattedAddress\" : \"University\"\n",
    "            }\n",
    "        },\n",
    "        \"size\": 20\n",
    "    }\n",
    ")\n",
    "with open('answers/q4.json', 'w') as f:\n",
    "    json.dump(dict(response),f,indent=4)\n",
    "for hit in response['hits']['hits']:\n",
    "    print(hit['_source']['formattedAddress'])"
   ]
  },
  {
   "cell_type": "markdown",
   "metadata": {},
   "source": [
    "#### Q5"
   ]
  },
  {
   "cell_type": "code",
   "execution_count": 111,
   "metadata": {},
   "outputs": [],
   "source": [
    "response = client.search(\n",
    "    index= madmap,\n",
    "    body={\n",
    "        \"query\": {\n",
    "            \"match\": {\n",
    "                    \"title\": {\n",
    "                        \"query\" : \"Madison\",\n",
    "                        \"fuzziness\": \"AUTO\"\n",
    "                    }\n",
    "            }\n",
    "        },\n",
    "        \"_source\": [\"title\"],\n",
    "        \"size\": 200\n",
    "    }\n",
    ")\n",
    "with open(\"answers/q5.json\", \"w\") as f:\n",
    "    json.dump(dict(response),f,indent=4)\n",
    "#for hit in response['hits']['hits']:\n",
    "    #print(hit['_source'])"
   ]
  },
  {
   "cell_type": "markdown",
   "metadata": {},
   "source": [
    "#### Q6"
   ]
  },
  {
   "cell_type": "code",
   "execution_count": 11,
   "metadata": {},
   "outputs": [
    {
     "name": "stdout",
     "output_type": "stream",
     "text": [
      "{'source': {'id': 'usa-today', 'name': 'USA Today'}, 'author': 'Roll Tide Wire', 'title': 'Alabama football rolls past the Wisconsin Badgers 42-10', 'description': \"After a sloppy Week 2 win against the USF Bulls, everyone was curious how the Alabama Crimson Tide would respond against the Wisconsin Badgers in Kalen DeBoer's first road test as the head coach in Tuscaloosa. The result was more than positive. Wisco\", 'url': 'https://rolltidewire.usatoday.com/2024/09/14/alabama-football-wisconsin-badgers-victory/', 'urlToImage': 'https://s.yimg.com/ny/api/res/1.2/RwRc7z.ZmgkcXFw88x1cbg--/YXBwaWQ9aGlnaGxhbmRlcjt3PTEyMDA7aD04MDA-/https://media.zenfs.com/en/roll_tide_wire_usa_today_articles_214/f3637affb3dc62d4738204dc186c71e5', 'publishedAt': '2024-09-14T19:55:55Z', 'content': 'Sep 14, 2024; Madison, Wisconsin, USA; Alabama Crimson Tide quarterback Jalen Milroe (4) throws a pass during the first quarter against the Wisconsin Badgers at Camp Randall Stadium. Mandatory Credit… [+1213 chars]'}\n",
      "{'source': {'id': 'usa-today', 'name': 'USA Today'}, 'author': 'Roll Tide Wire', 'title': 'Alabama football rolls past the Wisconsin Badgers 42-10', 'description': \"After a sloppy Week 2 win against the USF Bulls, everyone was curious how the Alabama Crimson Tide would respond against the Wisconsin Badgers in Kalen DeBoer's first road test as the head coach in Tuscaloosa. The result was more than positive. Wisco\", 'url': 'https://rolltidewire.usatoday.com/2024/09/14/alabama-football-wisconsin-badgers-victory/', 'urlToImage': 'https://s.yimg.com/ny/api/res/1.2/RwRc7z.ZmgkcXFw88x1cbg--/YXBwaWQ9aGlnaGxhbmRlcjt3PTEyMDA7aD04MDA-/https://media.zenfs.com/en/roll_tide_wire_usa_today_articles_214/f3637affb3dc62d4738204dc186c71e5', 'publishedAt': '2024-09-14T19:55:55Z', 'content': 'Sep 14, 2024; Madison, Wisconsin, USA; Alabama Crimson Tide quarterback Jalen Milroe (4) throws a pass during the first quarter against the Wisconsin Badgers at Camp Randall Stadium. Mandatory Credit… [+1213 chars]'}\n",
      "{'source': {'id': 'usa-today', 'name': 'USA Today'}, 'author': 'Roll Tide Wire', 'title': 'Alabama 2024 Opponent Preview: Wisconsin Badgers', 'description': 'Week 3 of the 2024 college football season has now officially arrived, and with that brings what is likely the toughest tes', 'url': 'https://rolltidewire.usatoday.com/lists/alabama-football-wisconsin-badgers-team-preview-week-3/', 'urlToImage': 'https://s.yimg.com/ny/api/res/1.2/yWqp989P53jepAS.VSBUqg--/YXBwaWQ9aGlnaGxhbmRlcjt3PTEyMDA7aD04MDA-/https://media.zenfs.com/en/roll_tide_wire_usa_today_articles_214/e5c22e255cf1a62cd1b42b8e9b123744', 'publishedAt': '2024-09-13T10:00:00Z', 'content': 'Sep 7, 2024; Madison, Wisconsin, USA; Wisconsin Badgers head coach Luke Fickell looks on during warmups prior to the game against the South Dakota Coyotes at Camp Randall Stadium. Mandatory Credit: J… [+5346 chars]'}\n",
      "{'source': {'id': 'usa-today', 'name': 'USA Today'}, 'author': 'Roll Tide Wire', 'title': 'Alabama 2024 Opponent Preview: Wisconsin Badgers', 'description': 'Week 3 of the 2024 college football season has now officially arrived, and with that brings what is likely the toughest tes', 'url': 'https://rolltidewire.usatoday.com/lists/alabama-football-wisconsin-badgers-team-preview-week-3/', 'urlToImage': 'https://s.yimg.com/ny/api/res/1.2/yWqp989P53jepAS.VSBUqg--/YXBwaWQ9aGlnaGxhbmRlcjt3PTEyMDA7aD04MDA-/https://media.zenfs.com/en/roll_tide_wire_usa_today_articles_214/e5c22e255cf1a62cd1b42b8e9b123744', 'publishedAt': '2024-09-13T10:00:00Z', 'content': 'Sep 7, 2024; Madison, Wisconsin, USA; Wisconsin Badgers head coach Luke Fickell looks on during warmups prior to the game against the South Dakota Coyotes at Camp Randall Stadium. Mandatory Credit: J… [+5346 chars]'}\n",
      "{'source': {'id': None, 'name': 'NBCSports.com'}, 'author': 'NBC Sports', 'title': 'Purdue Boilermakers vs. Wisconsin Badgers prediction: Odds, expert picks, recent stats, and betting trends', 'description': 'Purdue Boilermakers vs. Wisconsin Badgers Game Preview', 'url': 'https://www.nbcsports.com/college-football/news/purdue-boilermakers-vs-wisconsin-badgers-prediction-odds-expert-picks-recent-stats-and-betting-trends', 'urlToImage': 'https://s.yimg.com/ny/api/res/1.2/zgDsR05L3NMKhemXpqMZnA--/YXBwaWQ9aGlnaGxhbmRlcjt3PTEyMDA7aD02NzU-/https://media.zenfs.com/en/nbcsports.com/4c143a2c197b3b6472454be313f75dc5', 'publishedAt': '2024-10-01T21:04:34Z', 'content': 'Ryan Walters tenure as Purdue head football coach has not started as intended. Purdue is 5-11 with Walters at the helm, and they have struggled mightily on both sides of the ball. After starting this… [+5247 chars]'}\n",
      "{'source': {'id': None, 'name': 'NBCSports.com'}, 'author': 'NBC Sports', 'title': 'Purdue Boilermakers vs. Wisconsin Badgers prediction: Odds, expert picks, recent stats, and betting trends', 'description': 'Purdue Boilermakers vs. Wisconsin Badgers Game Preview', 'url': 'https://www.nbcsports.com/college-football/news/purdue-boilermakers-vs-wisconsin-badgers-prediction-odds-expert-picks-recent-stats-and-betting-trends', 'urlToImage': 'https://s.yimg.com/ny/api/res/1.2/zgDsR05L3NMKhemXpqMZnA--/YXBwaWQ9aGlnaGxhbmRlcjt3PTEyMDA7aD02NzU-/https://media.zenfs.com/en/nbcsports.com/4c143a2c197b3b6472454be313f75dc5', 'publishedAt': '2024-10-01T21:04:34Z', 'content': 'Ryan Walters tenure as Purdue head football coach has not started as intended. Purdue is 5-11 with Walters at the helm, and they have struggled mightily on both sides of the ball. After starting this… [+5247 chars]'}\n",
      "{'source': {'id': None, 'name': 'Yahoo Entertainment'}, 'author': 'WITI', 'title': 'Wisconsin Badgers host Alabama, anticipation builds in Madison', 'description': 'The Wisconsin Badgers host the Alabama Crimson Tide on Saturday – kickoff set for 11 a.m. on FOX6. Anticipation is building on set and on campus.', 'url': 'https://consent.yahoo.com/v2/collectConsent?sessionId=1_cc-session_3159a3c0-0dff-4af9-a9d8-c35cc928449d', 'urlToImage': None, 'publishedAt': '2024-09-14T01:15:17Z', 'content': \"If you click 'Accept all', we and our partners, including 239 who are part of the IAB Transparency &amp; Consent Framework, will also store and/or access information on a device (in other words, use … [+678 chars]\"}\n",
      "{'source': {'id': None, 'name': 'Yahoo Entertainment'}, 'author': 'WITI', 'title': 'Wisconsin Badgers host Alabama, anticipation builds in Madison', 'description': 'The Wisconsin Badgers host the Alabama Crimson Tide on Saturday – kickoff set for 11 a.m. on FOX6. Anticipation is building on set and on campus.', 'url': 'https://consent.yahoo.com/v2/collectConsent?sessionId=1_cc-session_3159a3c0-0dff-4af9-a9d8-c35cc928449d', 'urlToImage': None, 'publishedAt': '2024-09-14T01:15:17Z', 'content': \"If you click 'Accept all', we and our partners, including 239 who are part of the IAB Transparency &amp; Consent Framework, will also store and/or access information on a device (in other words, use … [+678 chars]\"}\n",
      "{'source': {'id': None, 'name': 'Yahoo Entertainment'}, 'author': 'Yahoo Sports', 'title': 'How To Watch NCAA Football: Alabama vs. Wisconsin, kickoff time, how to stream and more', 'description': 'The Alabama Crimson Tide will face the Wisconsin Badgers in Madison, WI this Saturday.', 'url': 'https://sports.yahoo.com/how-to-watch-ncaa-football-alabama-vs-wisconsin-kickoff-time-how-to-stream-and-more-104511090.html', 'urlToImage': 'https://s.yimg.com/ny/api/res/1.2/1YfzSt4lX9RyVb0BHqtCew--/YXBwaWQ9aGlnaGxhbmRlcjt3PTEyMDA7aD04ODY-/https://s.yimg.com/os/creatr-uploaded-images/2024-08/aa9039a0-6d73-11ef-b3ff-7b280504a68a', 'publishedAt': '2024-09-14T10:45:11Z', 'content': 'No. 4-ranked Alabama will head north to play the Wisconsin Badgers during Week 3 of NCAA football season this weekend, their first visit to Madison in 96 years. Though both teams have won their two p… [+8018 chars]'}\n",
      "{'source': {'id': None, 'name': 'Yahoo Entertainment'}, 'author': 'Yahoo Sports', 'title': 'How To Watch NCAA Football: Alabama vs. Wisconsin, kickoff time, how to stream and more', 'description': 'The Alabama Crimson Tide will face the Wisconsin Badgers in Madison, WI this Saturday.', 'url': 'https://sports.yahoo.com/how-to-watch-ncaa-football-alabama-vs-wisconsin-kickoff-time-how-to-stream-and-more-104511090.html', 'urlToImage': 'https://s.yimg.com/ny/api/res/1.2/1YfzSt4lX9RyVb0BHqtCew--/YXBwaWQ9aGlnaGxhbmRlcjt3PTEyMDA7aD04ODY-/https://s.yimg.com/os/creatr-uploaded-images/2024-08/aa9039a0-6d73-11ef-b3ff-7b280504a68a', 'publishedAt': '2024-09-14T10:45:11Z', 'content': 'No. 4-ranked Alabama will head north to play the Wisconsin Badgers during Week 3 of NCAA football season this weekend, their first visit to Madison in 96 years. Though both teams have won their two p… [+8018 chars]'}\n",
      "{'source': {'id': None, 'name': 'Yahoo Entertainment'}, 'author': 'Milwaukee Journal Sentinel', 'title': 'Drone view of Camp Randall Stadium in Madison, the home of Wisconsin Badgers Football', 'description': \"Get a bird's eye view of the home of the Wisconsin Badgers Football team, Camp Randall Stadium in Madison.\", 'url': 'https://consent.yahoo.com/v2/collectConsent?sessionId=1_cc-session_e14df6d3-2d44-427d-8c4b-34459b017a9e', 'urlToImage': None, 'publishedAt': '2024-09-24T20:27:00Z', 'content': \"If you click 'Accept all', we and our partners, including 240 who are part of the IAB Transparency &amp; Consent Framework, will also store and/or access information on a device (in other words, use … [+678 chars]\"}\n",
      "{'source': {'id': None, 'name': 'Yahoo Entertainment'}, 'author': 'Milwaukee Journal Sentinel', 'title': 'Drone view of Camp Randall Stadium in Madison, the home of Wisconsin Badgers Football', 'description': \"Get a bird's eye view of the home of the Wisconsin Badgers Football team, Camp Randall Stadium in Madison.\", 'url': 'https://consent.yahoo.com/v2/collectConsent?sessionId=1_cc-session_e14df6d3-2d44-427d-8c4b-34459b017a9e', 'urlToImage': None, 'publishedAt': '2024-09-24T20:27:00Z', 'content': \"If you click 'Accept all', we and our partners, including 240 who are part of the IAB Transparency &amp; Consent Framework, will also store and/or access information on a device (in other words, use … [+678 chars]\"}\n",
      "{'source': {'id': 'fox-sports', 'name': 'Fox Sports'}, 'author': None, 'title': 'Alabama vs. Wisconsin Prediction, Odds, Expert Pick', 'description': 'Preview the Sept. 14 matchup between the Alabama Crimson Tide and Wisconsin Badgers with predictions, odds, over/under, spread, betting lines and more.', 'url': 'https://www.foxsports.com/stories/college-football/alabama-vs-wisconsin-prediction-odds-picks-september-14-2024', 'urlToImage': 'https://a57.foxsports.com/statics.foxsports.com/www.foxsports.com/content/uploads/2024/09/1408/814/tuscaloosa-alabama-jalen-milroe-of-the-alabama-crimson-tide-runs-the-ball-during-the-second.jpg?ve=1&tl=1', 'publishedAt': '2024-09-12T18:55:25Z', 'content': 'The No. 4 Alabama Crimson Tide (2-0) are massive 16.5-point favorites on Saturday, September 14, 2024 against the Wisconsin Badgers (2-0). The point total is 49.5 for the contest.\\r\\nFacing the South F… [+5039 chars]'}\n",
      "{'source': {'id': 'fox-sports', 'name': 'Fox Sports'}, 'author': None, 'title': 'Alabama vs. Wisconsin Prediction, Odds, Expert Pick', 'description': 'Preview the Sept. 14 matchup between the Alabama Crimson Tide and Wisconsin Badgers with predictions, odds, over/under, spread, betting lines and more.', 'url': 'https://www.foxsports.com/stories/college-football/alabama-vs-wisconsin-prediction-odds-picks-september-14-2024', 'urlToImage': 'https://a57.foxsports.com/statics.foxsports.com/www.foxsports.com/content/uploads/2024/09/1408/814/tuscaloosa-alabama-jalen-milroe-of-the-alabama-crimson-tide-runs-the-ball-during-the-second.jpg?ve=1&tl=1', 'publishedAt': '2024-09-12T18:55:25Z', 'content': 'The No. 4 Alabama Crimson Tide (2-0) are massive 16.5-point favorites on Saturday, September 14, 2024 against the Wisconsin Badgers (2-0). The point total is 49.5 for the contest.\\r\\nFacing the South F… [+5039 chars]'}\n",
      "{'source': {'id': 'usa-today', 'name': 'USA Today'}, 'author': 'USA TODAY Sports', 'title': 'Wisconsin QB Tyler Van Dyke to miss rest of season with knee injury, per reports', 'description': 'Wisconsin Badgers senior quarterback Tyler Van Dyke will miss remainder of the 2024 season after reportedly suffering a torn ACL in his right knee.', 'url': 'https://www.usatoday.com/story/sports/ncaaf/bigten/2024/09/16/tyler-van-dyke-wisconsin-badgers-knee-injury/75255777007/', 'urlToImage': 'https://s.yimg.com/ny/api/res/1.2/aC5zXURGT9iFIM9ExHTGWg--/YXBwaWQ9aGlnaGxhbmRlcjt3PTEyMDA7aD04MDA-/https://media.zenfs.com/en/usa_today_sports_articles_558/9a2f1e806014620bcd20a7cb6ed27a41', 'publishedAt': '2024-09-16T22:04:11Z', 'content': \"MADISON, Wis. The news on Tyler Van Dyke is as bad as expected.\\r\\nThe Wisconsin Badgers' senior quarterback will miss the remainder of the season due to a right knee injury he suffered during the firs… [+824 chars]\"}\n",
      "{'source': {'id': 'usa-today', 'name': 'USA Today'}, 'author': 'USA TODAY Sports', 'title': 'Wisconsin QB Tyler Van Dyke to miss rest of season with knee injury, per reports', 'description': 'Wisconsin Badgers senior quarterback Tyler Van Dyke will miss remainder of the 2024 season after reportedly suffering a torn ACL in his right knee.', 'url': 'https://www.usatoday.com/story/sports/ncaaf/bigten/2024/09/16/tyler-van-dyke-wisconsin-badgers-knee-injury/75255777007/', 'urlToImage': 'https://s.yimg.com/ny/api/res/1.2/aC5zXURGT9iFIM9ExHTGWg--/YXBwaWQ9aGlnaGxhbmRlcjt3PTEyMDA7aD04MDA-/https://media.zenfs.com/en/usa_today_sports_articles_558/9a2f1e806014620bcd20a7cb6ed27a41', 'publishedAt': '2024-09-16T22:04:11Z', 'content': \"MADISON, Wis. The news on Tyler Van Dyke is as bad as expected.\\r\\nThe Wisconsin Badgers' senior quarterback will miss the remainder of the season due to a right knee injury he suffered during the firs… [+824 chars]\"}\n",
      "{'source': {'id': None, 'name': 'CBS Sports'}, 'author': 'CBS Sports Staff', 'title': 'Wisconsin vs. Alabama prediction, odds, line: 2024 college football picks, Week 3 best bets from proven expert', 'description': \"SportsLine's Jimmie Kaylor revealed his Week 3 CFB picks, predictions and props for the Wisconsin Badgers vs. Alabama Crimson Tide game at Camp Randall Stadium in Madison\", 'url': 'https://www.cbssports.com/college-football/news/wisconsin-vs-alabama-prediction-odds-line-2024-college-football-picks-week-3-best-bets-from-proven-expert/', 'urlToImage': 'https://sportshub.cbsistatic.com/i/r/2024/09/13/d23b7b01-d948-4bad-b03b-4159c2bb7473/thumbnail/1200x675/c4f630ea2b6ef129413dbac26863cab3/chez-mellusi-wisconsin-badgers-usatsi.jpg', 'publishedAt': '2024-09-14T11:44:52Z', 'content': \"The No. 4 Alabama Crimson Tide (2-0) look to stay unbeaten when they travel to Camp Randall Stadium to take on the Wisconsin Badgers (2-0) on Saturday. The Tide haven't skipped a beat under first-yea… [+3949 chars]\"}\n",
      "{'source': {'id': None, 'name': 'CBS Sports'}, 'author': 'CBS Sports Staff', 'title': 'Wisconsin vs. Alabama prediction, odds, line: 2024 college football picks, Week 3 best bets from proven expert', 'description': \"SportsLine's Jimmie Kaylor revealed his Week 3 CFB picks, predictions and props for the Wisconsin Badgers vs. Alabama Crimson Tide game at Camp Randall Stadium in Madison\", 'url': 'https://www.cbssports.com/college-football/news/wisconsin-vs-alabama-prediction-odds-line-2024-college-football-picks-week-3-best-bets-from-proven-expert/', 'urlToImage': 'https://sportshub.cbsistatic.com/i/r/2024/09/13/d23b7b01-d948-4bad-b03b-4159c2bb7473/thumbnail/1200x675/c4f630ea2b6ef129413dbac26863cab3/chez-mellusi-wisconsin-badgers-usatsi.jpg', 'publishedAt': '2024-09-14T11:44:52Z', 'content': \"The No. 4 Alabama Crimson Tide (2-0) look to stay unbeaten when they travel to Camp Randall Stadium to take on the Wisconsin Badgers (2-0) on Saturday. The Tide haven't skipped a beat under first-yea… [+3949 chars]\"}\n",
      "{'source': {'id': 'usa-today', 'name': 'USA Today'}, 'author': 'Roll Tide Wire', 'title': \"Who are 5 Wisconsin players to know for Alabama's Week 3 matchup?\", 'description': \"The Alabama Crimson Tide will travel north to take on the Wisconsin Badgers in Week 3 of the 2024 season. Kalen DeBoer's squad picked up two wins in his first two games against Wes\", 'url': 'https://rolltidewire.usatoday.com/lists/alabama-football-wisconsin-badgers-top-players-week-3/', 'urlToImage': 'https://s.yimg.com/ny/api/res/1.2/IKkFAqxfSgi77qanfZxIgA--/YXBwaWQ9aGlnaGxhbmRlcjt3PTEyMDA7aD04MDA-/https://media.zenfs.com/en/roll_tide_wire_usa_today_articles_214/e42b2c38cb0319e47fd77c856ddad9b1', 'publishedAt': '2024-09-11T16:15:00Z', 'content': 'MADISON, WISCONSIN - AUGUST 30: Tyler Van Dyke #10 of the Wisconsin Badgers warms up before the game against the Western Michigan Broncos at Camp Randall Stadium on August 30, 2024 in Madison, Wiscon… [+4600 chars]'}\n",
      "{'source': {'id': 'usa-today', 'name': 'USA Today'}, 'author': 'Roll Tide Wire', 'title': \"Who are 5 Wisconsin players to know for Alabama's Week 3 matchup?\", 'description': \"The Alabama Crimson Tide will travel north to take on the Wisconsin Badgers in Week 3 of the 2024 season. Kalen DeBoer's squad picked up two wins in his first two games against Wes\", 'url': 'https://rolltidewire.usatoday.com/lists/alabama-football-wisconsin-badgers-top-players-week-3/', 'urlToImage': 'https://s.yimg.com/ny/api/res/1.2/IKkFAqxfSgi77qanfZxIgA--/YXBwaWQ9aGlnaGxhbmRlcjt3PTEyMDA7aD04MDA-/https://media.zenfs.com/en/roll_tide_wire_usa_today_articles_214/e42b2c38cb0319e47fd77c856ddad9b1', 'publishedAt': '2024-09-11T16:15:00Z', 'content': 'MADISON, WISCONSIN - AUGUST 30: Tyler Van Dyke #10 of the Wisconsin Badgers warms up before the game against the Western Michigan Broncos at Camp Randall Stadium on August 30, 2024 in Madison, Wiscon… [+4600 chars]'}\n",
      "{'source': {'id': 'usa-today', 'name': 'USA Today'}, 'author': 'Roll Tide Wire', 'title': \"Instant reactions to Alabama's win over Wisconsin\", 'description': 'The Alabama Crimson Tide were back in action Saturday afternoon during Week 3, as the program traveled north for a rare road game in the Big Ten against the Wisconsin Badgers. A game in which the Crimson Tide won by a final score of 42-10, here are a', 'url': 'https://rolltidewire.usatoday.com/2024/09/14/alabama-football-instant-analysis-wisconsin-badgers-win/', 'urlToImage': 'https://s.yimg.com/ny/api/res/1.2/vzqwMO5rzzgeb1SB4anwyQ--/YXBwaWQ9aGlnaGxhbmRlcjt3PTEyMDA7aD04MDA-/https://media.zenfs.com/en/roll_tide_wire_usa_today_articles_214/0b2051288fe937a41f4e594455b187a1', 'publishedAt': '2024-09-14T19:25:49Z', 'content': 'Sep 14, 2024; Madison, Wisconsin, USA; Alabama Crimson Tide running back Jam Miller (26) rushes with the football during the second quarter against the Wisconsin Badgers at Camp Randall Stadium. Mand… [+1880 chars]'}\n",
      "{'source': {'id': 'usa-today', 'name': 'USA Today'}, 'author': 'Roll Tide Wire', 'title': \"Instant reactions to Alabama's win over Wisconsin\", 'description': 'The Alabama Crimson Tide were back in action Saturday afternoon during Week 3, as the program traveled north for a rare road game in the Big Ten against the Wisconsin Badgers. A game in which the Crimson Tide won by a final score of 42-10, here are a', 'url': 'https://rolltidewire.usatoday.com/2024/09/14/alabama-football-instant-analysis-wisconsin-badgers-win/', 'urlToImage': 'https://s.yimg.com/ny/api/res/1.2/vzqwMO5rzzgeb1SB4anwyQ--/YXBwaWQ9aGlnaGxhbmRlcjt3PTEyMDA7aD04MDA-/https://media.zenfs.com/en/roll_tide_wire_usa_today_articles_214/0b2051288fe937a41f4e594455b187a1', 'publishedAt': '2024-09-14T19:25:49Z', 'content': 'Sep 14, 2024; Madison, Wisconsin, USA; Alabama Crimson Tide running back Jam Miller (26) rushes with the football during the second quarter against the Wisconsin Badgers at Camp Randall Stadium. Mand… [+1880 chars]'}\n",
      "{'source': {'id': None, 'name': 'Milwaukee Journal Sentinel'}, 'author': 'Milwaukee Journal Sentinel', 'title': 'How much are Wisconsin Badgers football tickets for Alabama game Saturday?', 'description': 'Fans will pay triple digits on the secondary market.', 'url': 'https://www.jsonline.com/story/sports/college/uw/2024/09/09/how-much-are-wisconsin-football-tickets-for-alabama-game-saturday/75143927007/', 'urlToImage': 'https://s.yimg.com/ny/api/res/1.2/5Yl6nXMFrwk1ir3DcFzAaw--/YXBwaWQ9aGlnaGxhbmRlcjt3PTEyMDA7aD04MDA-/https://media.zenfs.com/en/milwaukee-journal-sentinel/7b9eae9d907c866d9422cf67f00eb077', 'publishedAt': '2024-09-09T16:09:08Z', 'content': \"The University of Alabama football team hasn't played at Camp Randall Stadium since 1928, and those who still want to witness the once-in-a-century occasion will pay triple digits to see it happen.\\r\\n… [+2201 chars]\"}\n",
      "{'source': {'id': None, 'name': 'Milwaukee Journal Sentinel'}, 'author': 'Milwaukee Journal Sentinel', 'title': 'How much are Wisconsin Badgers football tickets for Alabama game Saturday?', 'description': 'Fans will pay triple digits on the secondary market.', 'url': 'https://www.jsonline.com/story/sports/college/uw/2024/09/09/how-much-are-wisconsin-football-tickets-for-alabama-game-saturday/75143927007/', 'urlToImage': 'https://s.yimg.com/ny/api/res/1.2/5Yl6nXMFrwk1ir3DcFzAaw--/YXBwaWQ9aGlnaGxhbmRlcjt3PTEyMDA7aD04MDA-/https://media.zenfs.com/en/milwaukee-journal-sentinel/7b9eae9d907c866d9422cf67f00eb077', 'publishedAt': '2024-09-09T16:09:08Z', 'content': \"The University of Alabama football team hasn't played at Camp Randall Stadium since 1928, and those who still want to witness the once-in-a-century occasion will pay triple digits to see it happen.\\r\\n… [+2201 chars]\"}\n",
      "{'source': {'id': None, 'name': 'Milwaukee Journal Sentinel'}, 'author': 'Milwaukee Journal Sentinel', 'title': \"What's the point spread for the Wisconsin Badgers-Alabama Crimson Tide football game Saturday?\", 'description': \"Alabama is favored to defeat Wisconsin on Saturday, but that probably doesn't shock you. The spread is interesting, though.\", 'url': 'https://www.jsonline.com/story/sports/college/uw/2024/09/09/wisconsin-badgers-alabama-crimson-tide-football-odds-point-spread/75146664007/', 'urlToImage': 'https://s.yimg.com/cv/apiv2/social/images/yahoo_default_logo-1200x1200.png', 'publishedAt': '2024-09-09T18:31:58Z', 'content': 'No. 4 Alabama pays Wisconsin a visit Saturday in a high-profile nonconference football game, and as you might expect, Alabama will be favored to win the battle over the unranked Badgers.\\r\\nDoes two to… [+1348 chars]'}\n",
      "{'source': {'id': None, 'name': 'Milwaukee Journal Sentinel'}, 'author': 'Milwaukee Journal Sentinel', 'title': \"What's the point spread for the Wisconsin Badgers-Alabama Crimson Tide football game Saturday?\", 'description': \"Alabama is favored to defeat Wisconsin on Saturday, but that probably doesn't shock you. The spread is interesting, though.\", 'url': 'https://www.jsonline.com/story/sports/college/uw/2024/09/09/wisconsin-badgers-alabama-crimson-tide-football-odds-point-spread/75146664007/', 'urlToImage': 'https://s.yimg.com/cv/apiv2/social/images/yahoo_default_logo-1200x1200.png', 'publishedAt': '2024-09-09T18:31:58Z', 'content': 'No. 4 Alabama pays Wisconsin a visit Saturday in a high-profile nonconference football game, and as you might expect, Alabama will be favored to win the battle over the unranked Badgers.\\r\\nDoes two to… [+1348 chars]'}\n",
      "{'source': {'id': 'usa-today', 'name': 'USA Today'}, 'author': 'Badgers Wire', 'title': 'How much are tickets for Wisconsin football vs. Alabama?', 'description': 'Ticket prices for Wisconsin vs Alabama continue to rise:', 'url': 'https://badgerswire.usatoday.com/2024/09/09/wisconsin-badgers-alabama-stubhub-ticket-prices/', 'urlToImage': 'https://s.yimg.com/cv/apiv2/social/images/yahoo_default_logo-1200x1200.png', 'publishedAt': '2024-09-09T13:30:07Z', 'content': 'The Wisconsin Badgers (2-0) host the No. 4-ranked Alabama Crimson Tide (2-0) on Saturday afternoon in one of the biggest games of their season. Not only that, but it is also one of Wisconsin’s bigges… [+1485 chars]'}\n",
      "{'source': {'id': 'usa-today', 'name': 'USA Today'}, 'author': 'Badgers Wire', 'title': 'How much are tickets for Wisconsin football vs. Alabama?', 'description': 'Ticket prices for Wisconsin vs Alabama continue to rise:', 'url': 'https://badgerswire.usatoday.com/2024/09/09/wisconsin-badgers-alabama-stubhub-ticket-prices/', 'urlToImage': 'https://s.yimg.com/cv/apiv2/social/images/yahoo_default_logo-1200x1200.png', 'publishedAt': '2024-09-09T13:30:07Z', 'content': 'The Wisconsin Badgers (2-0) host the No. 4-ranked Alabama Crimson Tide (2-0) on Saturday afternoon in one of the biggest games of their season. Not only that, but it is also one of Wisconsin’s bigges… [+1485 chars]'}\n",
      "{'source': {'id': None, 'name': 'CBS Sports'}, 'author': 'CBS Sports Staff', 'title': 'Wisconsin vs. Alabama prediction, odds, line: 2024 college football picks, Week 3 best bets by proven expert', 'description': \"SportsLine's Jimmie Kaylor revealed his Week 3 CFB picks, predictions and props for the Wisconsin Badgers vs. Alabama Crimson Tide game at Camp Randall Stadium in Madison\", 'url': 'https://www.cbssports.com/college-football/news/wisconsin-vs-alabama-prediction-odds-line-2024-college-football-picks-week-3-best-bets-by-proven-expert/', 'urlToImage': 'https://sportshub.cbsistatic.com/i/r/2024/09/13/d23b7b01-d948-4bad-b03b-4159c2bb7473/thumbnail/1200x675/c4f630ea2b6ef129413dbac26863cab3/chez-mellusi-wisconsin-badgers-usatsi.jpg', 'publishedAt': '2024-09-13T11:38:07Z', 'content': 'The No. 4 Alabama Crimson Tide (2-0) head north to take on a Big Ten foe when they play Wisconsin (2-0) on Saturday at Camp Randall Stadium in Madison. Alabama is coming off a pair of blowout wins to… [+3900 chars]'}\n",
      "{'source': {'id': None, 'name': 'CBS Sports'}, 'author': 'CBS Sports Staff', 'title': 'Wisconsin vs. Alabama prediction, odds, line: 2024 college football picks, Week 3 best bets by proven expert', 'description': \"SportsLine's Jimmie Kaylor revealed his Week 3 CFB picks, predictions and props for the Wisconsin Badgers vs. Alabama Crimson Tide game at Camp Randall Stadium in Madison\", 'url': 'https://www.cbssports.com/college-football/news/wisconsin-vs-alabama-prediction-odds-line-2024-college-football-picks-week-3-best-bets-by-proven-expert/', 'urlToImage': 'https://sportshub.cbsistatic.com/i/r/2024/09/13/d23b7b01-d948-4bad-b03b-4159c2bb7473/thumbnail/1200x675/c4f630ea2b6ef129413dbac26863cab3/chez-mellusi-wisconsin-badgers-usatsi.jpg', 'publishedAt': '2024-09-13T11:38:07Z', 'content': 'The No. 4 Alabama Crimson Tide (2-0) head north to take on a Big Ten foe when they play Wisconsin (2-0) on Saturday at Camp Randall Stadium in Madison. Alabama is coming off a pair of blowout wins to… [+3900 chars]'}\n",
      "{'source': {'id': None, 'name': 'TAsWinkWink.com'}, 'author': 'Aryan', 'title': 'Date announced: Coldplay concert at Camp Randall Stadium excites business owners, tourism officials', 'description': 'MADISON (WKOW): The Wisconsin Badgers announced in a post on social media over the weekend Coldplay would come to Camp Randall, exciting both local business owners and tourism leaders.', 'url': 'https://aryan_manually_added_this_for_you.com', 'publishedAt': '2024-09-27T20:02:54Z', 'WhenIsItHappening': 'July 19, 2025', 'geoLocation': '43.07003017809815, -89.41261330600952'}\n",
      "{'source': {'id': None, 'name': 'Yahoo Entertainment'}, 'author': 'Roll Tide Wire', 'title': 'How to buy Wisconsin vs. Alabama Week 3 college football tickets', 'description': 'The Wisconsin Badgers will host the Alabama Crimson Tide in Madison on Saturday for a Week 3 matchup between the Southeastern Conference and Big Ten, and if you are looking for tickets to the ga', 'url': 'https://consent.yahoo.com/v2/collectConsent?sessionId=1_cc-session_a8bc65cc-6328-4bfa-ba05-73bec1d3c752', 'urlToImage': None, 'publishedAt': '2024-09-09T14:34:04Z', 'content': \"If you click 'Accept all', we and our partners, including 239 who are part of the IAB Transparency &amp; Consent Framework, will also store and/or access information on a device (in other words, use … [+678 chars]\"}\n",
      "{'source': {'id': None, 'name': 'Yahoo Entertainment'}, 'author': 'Roll Tide Wire', 'title': 'How to buy Wisconsin vs. Alabama Week 3 college football tickets', 'description': 'The Wisconsin Badgers will host the Alabama Crimson Tide in Madison on Saturday for a Week 3 matchup between the Southeastern Conference and Big Ten, and if you are looking for tickets to the ga', 'url': 'https://consent.yahoo.com/v2/collectConsent?sessionId=1_cc-session_a8bc65cc-6328-4bfa-ba05-73bec1d3c752', 'urlToImage': None, 'publishedAt': '2024-09-09T14:34:04Z', 'content': \"If you click 'Accept all', we and our partners, including 239 who are part of the IAB Transparency &amp; Consent Framework, will also store and/or access information on a device (in other words, use … [+678 chars]\"}\n",
      "{'source': {'id': None, 'name': 'Yahoo Entertainment'}, 'author': 'Roll Tide Wire', 'title': 'Looking Back: Alabama vs. Wisconsin head-to-head football history', 'description': \"On Saturday afternoon, the Alabama Crimson Tide will travel north for a rare true road game in the Big Ten, as the program makes its' way to Madison for a Week 3 matchup against the Wisconsin Badgers. A matchup pitting the SEC vs. Big Ten, the Crimso\", 'url': 'https://consent.yahoo.com/v2/collectConsent?sessionId=1_cc-session_e575b743-2108-4e57-8896-772b37aa2259', 'urlToImage': None, 'publishedAt': '2024-09-11T19:45:13Z', 'content': \"If you click 'Accept all', we and our partners, including 239 who are part of the IAB Transparency &amp; Consent Framework, will also store and/or access information on a device (in other words, use … [+678 chars]\"}\n",
      "{'source': {'id': None, 'name': 'Yahoo Entertainment'}, 'author': 'Roll Tide Wire', 'title': 'Looking Back: Alabama vs. Wisconsin head-to-head football history', 'description': \"On Saturday afternoon, the Alabama Crimson Tide will travel north for a rare true road game in the Big Ten, as the program makes its' way to Madison for a Week 3 matchup against the Wisconsin Badgers. A matchup pitting the SEC vs. Big Ten, the Crimso\", 'url': 'https://consent.yahoo.com/v2/collectConsent?sessionId=1_cc-session_e575b743-2108-4e57-8896-772b37aa2259', 'urlToImage': None, 'publishedAt': '2024-09-11T19:45:13Z', 'content': \"If you click 'Accept all', we and our partners, including 239 who are part of the IAB Transparency &amp; Consent Framework, will also store and/or access information on a device (in other words, use … [+678 chars]\"}\n"
     ]
    }
   ],
   "source": [
    "response= client.search(\n",
    "    index=madmap,\n",
    "    body={\n",
    "        \"query\":{\n",
    "            \"bool\":{\n",
    "                \"should\": [\n",
    "                    {\"match_phrase\": {\"title\": \"Wisconsin Badgers\"}},\n",
    "                    {\"match_phrase\": {\"description\": \"Wisconsin Badgers\"}},\n",
    "                    {\"match_phrase\": {\"content\": \"Wisconsin Badgers\"}}\n",
    "                ]\n",
    "            }\n",
    "        },\n",
    "        \"size\": 210\n",
    "    }\n",
    ")\n",
    "with open(\"answers/q6.json\", \"w\") as f:\n",
    "    json.dump(dict(response),f,indent=4)\n",
    "for hit in response['hits']['hits']:\n",
    "    print(hit['_source'])"
   ]
  },
  {
   "cell_type": "markdown",
   "metadata": {},
   "source": [
    "#### Q7"
   ]
  },
  {
   "cell_type": "code",
   "execution_count": 112,
   "metadata": {},
   "outputs": [],
   "source": [
    "\n",
    "response = client.search(\n",
    "    index= madmap,\n",
    "    body={\n",
    "        \"query\":{\n",
    "            \"bool\":{\n",
    "                \"must\": [\n",
    "                    {\"exists\": {\"field\": \"formattedAddress\"}},\n",
    "        \n",
    "                ],\n",
    "                \"must_not\": [\n",
    "                    {\"match\":{\"formattedAddress\": \"Madison\"}}\n",
    "                ]\n",
    "            }\n",
    "        },\n",
    "        \"_source\": [\"name\", \"formattedAddress\"],\n",
    "        \"size\": 200\n",
    "    }\n",
    ")\n",
    "\n",
    "with open(\"answers/q7.json\", \"w\") as f:\n",
    "    json.dump(dict(response), f, indent=4)\n",
    "# for hit in response[\"hits\"][\"hits\"]:\n",
    "#     print(hit[\"_source\"])"
   ]
  },
  {
   "cell_type": "markdown",
   "metadata": {},
   "source": [
    "#### Q8"
   ]
  },
  {
   "cell_type": "code",
   "execution_count": 110,
   "metadata": {},
   "outputs": [],
   "source": [
    "response= client.search(\n",
    "    index= madmap,\n",
    "    body= {\n",
    "        \"query\": {\n",
    "            \"simple_query_string\":{\n",
    "                \"query\": \"\\\"rivalry\\\"^10.0 \\\"football\\\"^5.0 \\\"badgers\\\"\",\n",
    "                \"fields\": [\"wiki\"]\n",
    "            }\n",
    "        },\n",
    "        \"_source\": [\"wiki\"]\n",
    "    }\n",
    ")\n",
    "with open(\"answers/q8.json\", \"w\") as f:\n",
    "    json.dump(dict(response), f, indent=4)\n",
    "#for hit in response[\"hits\"][\"hits\"]:\n",
    "    #print(hit[\"_source\"])"
   ]
  },
  {
   "cell_type": "markdown",
   "metadata": {},
   "source": [
    "#### Q9"
   ]
  },
  {
   "cell_type": "code",
   "execution_count": 35,
   "metadata": {},
   "outputs": [
    {
     "data": {
      "text/plain": [
       "{'wiki': [\"Rivalries\\nThe Wisconsin Badgers' most notable <em>rivalry</em> within the Big Ten is with the Minnesota Golden\",\n",
       "  'Gophers, which is the most-played <em>rivalry</em> in Division I-A football.',\n",
       "  \"The I-94 <em>rivalry</em> between Wisconsin men's basketball and the in-state Marquette Golden Eagles has been\"]}"
      ]
     },
     "execution_count": 35,
     "metadata": {},
     "output_type": "execute_result"
    }
   ],
   "source": [
    "response= client.search(\n",
    "    index=madmap,\n",
    "    body={\n",
    "        \"query\": {\n",
    "            \"match_phrase\": {\n",
    "                \"wiki\": \"rivalry\"\n",
    "            }\n",
    "        },\n",
    "        \"_source\": [\"wiki\"],\n",
    "        \"highlight\": {\n",
    "            \"fields\": {\n",
    "                \"wiki\": {}\n",
    "            }\n",
    "        },\n",
    "        \"size\": 1\n",
    "    }\n",
    ")\n",
    "top_hit = response[\"hits\"][\"hits\"][0]\n",
    "highlight_section = top_hit.get(\"highlight\")\n",
    "with open(\"answers/q9.json\", \"w\") as f:\n",
    "    json.dump(dict(highlight_section), f, indent=4)\n",
    "highlight_section\n"
   ]
  },
  {
   "cell_type": "markdown",
   "metadata": {},
   "source": [
    "#### Q10"
   ]
  },
  {
   "cell_type": "code",
   "execution_count": 78,
   "metadata": {},
   "outputs": [
    {
     "name": "stdout",
     "output_type": "stream",
     "text": [
      "{'source': {'id': None, 'name': 'NASA'}, 'title': 'NASA Mission Gets Its First Snapshot of Polar Heat Emissions', 'publishedAt': '2024-09-15T15:12:17Z'}\n",
      "{'source': {'id': None, 'name': 'NASA'}, 'title': 'SARP West 2024 Oceans Group', 'publishedAt': '2024-09-25T21:08:57Z'}\n",
      "{'source': {'id': None, 'name': 'NASA'}, 'title': 'NASA Mission Gets Its First Snapshot of Polar Heat Emissions', 'publishedAt': '2024-09-15T15:12:17Z'}\n",
      "{'source': {'id': None, 'name': 'NASA'}, 'title': 'SARP West 2024 Oceans Group', 'publishedAt': '2024-09-25T21:08:57Z'}\n"
     ]
    }
   ],
   "source": [
    "response = client.search(\n",
    "    index=\"madmap\",\n",
    "    body={\n",
    "        \"query\": {\n",
    "            \"match_phrase\": {\n",
    "                \"source.name\": \"NAsa\"\n",
    "            }\n",
    "        },\n",
    "        \"_source\": [\"source\", \"title\", \"publishedAt\"],\n",
    "        \"size\": 20\n",
    "    }\n",
    ")\n",
    "with open(\"answers/q10.json\", \"w\") as f:\n",
    "    json.dump(dict(response), f, indent=4)\n",
    "for hit in response[\"hits\"][\"hits\"]:\n",
    "    print(hit[\"_source\"])"
   ]
  },
  {
   "cell_type": "markdown",
   "metadata": {},
   "source": [
    "#### Q11"
   ]
  },
  {
   "cell_type": "code",
   "execution_count": 90,
   "metadata": {},
   "outputs": [
    {
     "name": "stdout",
     "output_type": "stream",
     "text": [
      "1671.0\n"
     ]
    }
   ],
   "source": [
    "response = client.search(\n",
    "    index=madmap,\n",
    "    body={\n",
    "        \"size\":0,\n",
    "        \"aggs\": {\n",
    "            \"total_arrests_sum\" :{\n",
    "                 \"sum\": {\n",
    "                    \"field\": \"arrests\"\n",
    "                }\n",
    "            }\n",
    "        }\n",
    "        \n",
    "    }\n",
    ")\n",
    "number = response['aggregations']['total_arrests_sum']['value']\n",
    "with open(\"answers/q11.json\", \"w\") as f:\n",
    "    json.dump(number, f, indent=4)\n",
    "print(response['aggregations']['total_arrests_sum']['value'])"
   ]
  },
  {
   "cell_type": "markdown",
   "metadata": {},
   "source": [
    "#### Q12"
   ]
  },
  {
   "cell_type": "code",
   "execution_count": 95,
   "metadata": {},
   "outputs": [
    {
     "data": {
      "text/plain": [
       "[{'key': 'Milwaukee Journal Sentinel', 'doc_count': 22},\n",
       " {'key': 'Yahoo Entertainment', 'doc_count': 19},\n",
       " {'key': 'Fox Sports', 'doc_count': 18},\n",
       " {'key': 'USA Today', 'doc_count': 18},\n",
       " {'key': 'Forbes', 'doc_count': 15},\n",
       " {'key': 'CBS Sports', 'doc_count': 9},\n",
       " {'key': 'Newsweek', 'doc_count': 8},\n",
       " {'key': 'ESPN', 'doc_count': 6},\n",
       " {'key': 'Scientific American', 'doc_count': 6},\n",
       " {'key': 'Tuscaloosa News', 'doc_count': 6}]"
      ]
     },
     "execution_count": 95,
     "metadata": {},
     "output_type": "execute_result"
    }
   ],
   "source": [
    "response= client.search(\n",
    "    index=madmap,\n",
    "    body={\n",
    "        \"size\":0,\n",
    "        \"aggs\": {\n",
    "            \"source_count\":{\n",
    "                \"terms\": {\n",
    "                    \"field\": \"source.name.keyword\",\n",
    "                    \"size\": 10\n",
    "                }\n",
    "            }\n",
    "        }\n",
    "\n",
    "    }\n",
    ")\n",
    "top10= response['aggregations']['source_count']['buckets']\n",
    "with open(\"answers/q12.json\", \"w\") as f:\n",
    "    json.dump(top10, f, indent=4)\n",
    "top10\n",
    "\n"
   ]
  },
  {
   "cell_type": "markdown",
   "metadata": {},
   "source": [
    "#### Q13"
   ]
  },
  {
   "cell_type": "code",
   "execution_count": 100,
   "metadata": {},
   "outputs": [
    {
     "name": "stdout",
     "output_type": "stream",
     "text": [
      "307\n"
     ]
    }
   ],
   "source": [
    "response= client.search(\n",
    "    index=madmap,\n",
    "    body={\n",
    "        \"size\":0,\n",
    "        \"aggs\":{\n",
    "            \"location_name_count\": {\n",
    "                \"value_count\": {\n",
    "                    \"field\": \"name.keyword\"\n",
    "                }\n",
    "            }\n",
    "        }\n",
    "    }\n",
    ")\n",
    "valuecount = response[\"aggregations\"][\"location_name_count\"]['value']\n",
    "with open(\"answers/q13.json\", \"w\") as f:\n",
    "    json.dump(valuecount,f,indent=4)\n",
    "print(response['aggregations']['location_name_count']['value'])"
   ]
  },
  {
   "cell_type": "markdown",
   "metadata": {},
   "source": [
    "#### Q14"
   ]
  },
  {
   "cell_type": "code",
   "execution_count": 105,
   "metadata": {},
   "outputs": [
    {
     "name": "stdout",
     "output_type": "stream",
     "text": [
      "64\n"
     ]
    }
   ],
   "source": [
    "response=client.search(\n",
    "    index=madmap,\n",
    "    body={\n",
    "        \"size\":0,\n",
    "        \"aggs\":{\n",
    "            \"unique_authors\":{\n",
    "                \"cardinality\":{\n",
    "                    \"field\": \"author.keyword\"\n",
    "                }\n",
    "            }\n",
    "        }\n",
    "    }\n",
    ")\n",
    "authors = response['aggregations']['unique_authors']['value']\n",
    "with open(\"answers/q14.json\", \"w\") as f:\n",
    "    json.dump(authors,f,indent=4)\n",
    "print(response['aggregations']['unique_authors']['value'])"
   ]
  },
  {
   "cell_type": "markdown",
   "metadata": {},
   "source": [
    "#### Q15"
   ]
  },
  {
   "cell_type": "code",
   "execution_count": 107,
   "metadata": {},
   "outputs": [
    {
     "name": "stdout",
     "output_type": "stream",
     "text": [
      "47736.84210526316\n"
     ]
    }
   ],
   "source": [
    "response = client.search(\n",
    "    index=madmap,\n",
    "    body={\n",
    "        \"size\":0,\n",
    "        \"aggs\": {\n",
    "            \"avg_attended\": {\n",
    "                \"avg\": {\n",
    "                    \"field\": \"attended\"\n",
    "                }\n",
    "            }\n",
    "        }\n",
    "    }\n",
    ")\n",
    "party_goers = response['aggregations']['avg_attended']['value']\n",
    "with open(\"answers/q15.json\", \"w\") as f:\n",
    "    json.dump(party_goers,f,indent=4)\n",
    "print(response['aggregations']['avg_attended']['value'])"
   ]
  },
  {
   "cell_type": "markdown",
   "metadata": {},
   "source": [
    "# Section 3: Interactive Visualization: Making the 639 Madison maps application"
   ]
  },
  {
   "cell_type": "markdown",
   "metadata": {},
   "source": [
    "#### Done in Kibana "
   ]
  },
  {
   "cell_type": "code",
   "execution_count": 4,
   "metadata": {},
   "outputs": [
    {
     "name": "stdout",
     "output_type": "stream",
     "text": [
      "\u001b[1m============================= test session starts ==============================\u001b[0m\n",
      "platform linux -- Python 3.10.12, pytest-8.3.4, pluggy-1.5.0\n",
      "rootdir: /home/alexvlasik/project-3-p3_vlasik_mmgupta2\n",
      "plugins: anyio-4.8.0\n",
      "collected 22 items                                                             \u001b[0m\n",
      "\n",
      "autograder.py \u001b[32m.\u001b[0m\u001b[32m.\u001b[0m\u001b[32m.\u001b[0m\u001b[32m.\u001b[0m\u001b[32m.\u001b[0m\u001b[32m.\u001b[0m\u001b[32m.\u001b[0m\u001b[32m.\u001b[0m\u001b[32m.\u001b[0m\u001b[32m.\u001b[0m\u001b[32m.\u001b[0m\u001b[32m.\u001b[0m\u001b[32m.\u001b[0m\u001b[32m.\u001b[0m\u001b[32m.\u001b[0m\u001b[32m.\u001b[0m\u001b[32m.\u001b[0m\u001b[32m.\u001b[0m\u001b[32m.\u001b[0m\u001b[32m.\u001b[0m\u001b[32m.\u001b[0m\u001b[32m.\u001b[0m\u001b[32m                                     [100%]\u001b[0m\n",
      "\n",
      "\u001b[32m============================== \u001b[32m\u001b[1m22 passed\u001b[0m\u001b[32m in 0.30s\u001b[0m\u001b[32m ==============================\u001b[0m\n"
     ]
    }
   ],
   "source": [
    "! pytest autograder.py"
   ]
  }
 ],
 "metadata": {
  "kernelspec": {
   "display_name": "Python 3",
   "language": "python",
   "name": "python3"
  },
  "language_info": {
   "codemirror_mode": {
    "name": "ipython",
    "version": 3
   },
   "file_extension": ".py",
   "mimetype": "text/x-python",
   "name": "python",
   "nbconvert_exporter": "python",
   "pygments_lexer": "ipython3",
   "version": "3.10.12"
  }
 },
 "nbformat": 4,
 "nbformat_minor": 2
}
