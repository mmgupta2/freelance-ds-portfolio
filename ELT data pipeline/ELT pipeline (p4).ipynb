{
 "cells": [
  {
   "cell_type": "markdown",
   "metadata": {},
   "source": [
    "### Q3: Install DBT using Miniconda ###"
   ]
  },
  {
   "cell_type": "code",
   "execution_count": 1,
   "metadata": {},
   "outputs": [
    {
     "name": "stdout",
     "output_type": "stream",
     "text": [
      "/home/alexvlasik/miniconda3/envs/p4-env/bin/dbt\n"
     ]
    }
   ],
   "source": [
    "#show dbt is installed\n",
    "!which dbt"
   ]
  },
  {
   "cell_type": "markdown",
   "metadata": {},
   "source": [
    " ### Q9: Use dbt to transform the column names to single word or two-word names with \"_\" separator and create a view named transform_survey. ###"
   ]
  },
  {
   "cell_type": "code",
   "execution_count": 1,
   "metadata": {},
   "outputs": [
    {
     "name": "stdout",
     "output_type": "stream",
     "text": [
      "p4_survey_pipeline:\n",
      "  target: dev # by default\n",
      "  outputs:\n",
      "    dev:\n",
      "      type: snowflake\n",
      "      account: QK52109.us-central1.gcp\n",
      "      user: AVLASIK\n",
      "      role: P4_ROLE\n",
      "      database: SURVEY_DATABASE \n",
      "      warehouse: P4_WAREHOUSE\n",
      "      schema: SURVEY_SCHEMA\n",
      "      threads: 10\n",
      "\n",
      "    other_db:\n",
      "      type: snowflake\n",
      "      account: QK52109.us-central1.gcp\n",
      "      user: AVLASIK\n",
      "      role: P4_ROLE\n",
      "      database: STOCK_DB\n",
      "      warehouse: P4_WAREHOUSE\n",
      "      schema: STOCK_SCHEMA\n",
      "      threads: 10\n"
     ]
    }
   ],
   "source": [
    "!grep -v password ~/.dbt/profiles.yml"
   ]
  },
  {
   "cell_type": "code",
   "execution_count": 39,
   "metadata": {},
   "outputs": [
    {
     "name": "stdout",
     "output_type": "stream",
     "text": [
      "version: 2\n",
      "\n",
      "sources:\n",
      "  - name: survey_data\n",
      "    database: SURVEY_DATABASE\n",
      "    schema: SURVEY_SCHEMA\n",
      "    tables:\n",
      "      - name: survey \n",
      "  - name: stock_by_day\n",
      "    database: STOCK_TRACKING_US_STOCK_PRICES_BY_DAY\n",
      "    schema: STOCK\n",
      "    tables:\n",
      "      - name: US_STOCK_METRICS\n",
      "  - name: fx_by_day\n",
      "    database: FOREX_TRACKING_CURRENCY_EXCHANGE_RATES_BY_DAY\n",
      "    schema: STOCK\n",
      "    tables:\n",
      "      - name: FOREX_METRICS\n",
      "  - name: airbyte_csv_data\n",
      "    database: STOCK_DB\n",
      "    schema: STOCK_SCHEMA\n",
      "    tables:\n",
      "      - name: TRADING_BOOKS\n",
      "      - name: WEIGHTS_TABLE"
     ]
    }
   ],
   "source": [
    "!cat p4_survey_pipeline/models/schema.yml"
   ]
  },
  {
   "cell_type": "code",
   "execution_count": 11,
   "metadata": {},
   "outputs": [
    {
     "name": "stdout",
     "output_type": "stream",
     "text": [
      "with raw_survey as (\n",
      "    select * from {{ source('survey_data', 'survey') }}\n",
      "),\n",
      "\n",
      "survey_transformed as (\n",
      "    select\n",
      "        {{ adapter.quote('EMAIL_ADDRESS') }} as email,\n",
      "        {{ adapter.quote('WHAT_IS_YOUR_AGE_') }} as age,\n",
      "        {{ adapter.quote('WHICH_BEST_DESCRIBES_YOUR_PRIMARY_MAJOR_OR_FIELD_OF_STUDY_IF_YOU_HAVE_MORE_THAN_ONE_MAJOR_PLEASE_SPECIFY_OTHER_MAJORS_AS_PART_OF_THE_NEXT_QUESTION_') }} as primary_major,\n",
      "        {{ adapter.quote('IF_YOU_HAVE_SECONDARY_MAJORS_PLEASE_LIST_THEM_HERE_SEPARATED_BY_A_COMMA_') }} as secondary_major,\n",
      "        {{ adapter.quote('ARE_YOU_A_RUNNER_CONSIDER_BOTH_RUNNING_ON_TREADMILL_AND_OUTDOORS_') }} as running,\n",
      "        {{ adapter.quote('DO_YOU_CONSIDER_YOURSELF_A_PROCRASTINATOR_') }} as procrastination,\n",
      "        {{ adapter.quote('HAVE_YOU_EVER_IN_YOUR_LIFE_HAD_A_PET_') }} as pet,\n",
      "        {{ adapter.quote('IF_YOU_HAD_AN_EXTRA_HOUR_IN_YOUR_DAY_HOW_WOULD_YOU_SPEND_IT_') }} as extra_hour,\n",
      "        {{ adapter.quote('WHAT_FACTOR_INFLUENCES_YOUR_COURSE_SELECTION_THE_MOST_') }} as influence_courses,\n",
      "        {{ adapter.quote('WHAT_IS_THE_5_DIGIT_ZIP_CODE_OF_YOUR_RESIDENCE_WHILE_ATTENDING_CLASSES_IF_YOU_ARE_NOT_SURE_CHECK_HERE_HTTPS_TOOLS_USPS_COM_ZIP_CODE_LOOKUP_HTM_BYADDRESS_') }} as zipcode,\n",
      "        {{ adapter.quote('WHAT_IS_YOUR_CURRENT_STANDING') }} as standing,\n",
      "        {{ adapter.quote('WHAT_IS_YOUR_FAVORITE_HOBBY_') }} as hobby,\n",
      "        {{ adapter.quote('WHAT_IS_YOUR_FAVORITE_PIZZA_TOPPING_') }} as pizza_topping,\n",
      "        {{ adapter.quote('WOULD_YOU_DESCRIBE_YOURSELF_AS_AN_EARLY_BIRD_OR_A_NIGHT_OWL_') }} as earlybird_nightowl\n",
      "\n",
      "    from raw_survey\n",
      ")\n",
      "\n",
      "select * from survey_transformed"
     ]
    }
   ],
   "source": [
    "!cat p4_survey_pipeline/models/staging/transform_survey.sql"
   ]
  },
  {
   "cell_type": "markdown",
   "metadata": {},
   "source": [
    "# Q10-Q16"
   ]
  },
  {
   "cell_type": "code",
   "execution_count": 7,
   "metadata": {},
   "outputs": [],
   "source": [
    "import snowflake.connector\n",
    "import pandas as pd\n",
    "import matplotlib.pyplot as plt\n",
    "from sqlalchemy import create_engine\n",
    "import os"
   ]
  },
  {
   "cell_type": "code",
   "execution_count": 42,
   "metadata": {},
   "outputs": [
    {
     "data": {
      "text/plain": [
       "<snowflake.connector.cursor.SnowflakeCursor at 0x79282047abc0>"
      ]
     },
     "execution_count": 42,
     "metadata": {},
     "output_type": "execute_result"
    }
   ],
   "source": [
    "with open(\"snowflake_password\", \"r\") as file:\n",
    "    snowflake_password = file.read()\n",
    "    snowflake_password = snowflake_password.strip()\n",
    "    \n",
    "conn = snowflake.connector.connect(\n",
    "    user = 'AVLASIK',\n",
    "    password = snowflake_password,\n",
    "    account = 'QK52109.us-central1.gcp'\n",
    ")\n",
    "cursor = conn.cursor()\n",
    "cursor.execute(\"USE DATABASE SURVEY_DATABASE\")\n",
    "cursor.execute(\"USE SCHEMA SURVEY_SCHEMA\")"
   ]
  },
  {
   "cell_type": "markdown",
   "metadata": {},
   "source": [
    "### Q10: What is the favorite pizza topping of each class?"
   ]
  },
  {
   "cell_type": "code",
   "execution_count": null,
   "metadata": {},
   "outputs": [
    {
     "name": "stderr",
     "output_type": "stream",
     "text": [
      "/tmp/ipykernel_2176430/481046265.py:1: UserWarning: pandas only supports SQLAlchemy connectable (engine/connection) or database string URI or sqlite3 DBAPI2 connection. Other DBAPI2 objects are not tested. Please consider using SQLAlchemy.\n",
      "  df = pd.read_sql(\"\"\"\n"
     ]
    },
    {
     "data": {
      "text/html": [
       "<div>\n",
       "<style scoped>\n",
       "    .dataframe tbody tr th:only-of-type {\n",
       "        vertical-align: middle;\n",
       "    }\n",
       "\n",
       "    .dataframe tbody tr th {\n",
       "        vertical-align: top;\n",
       "    }\n",
       "\n",
       "    .dataframe thead th {\n",
       "        text-align: right;\n",
       "    }\n",
       "</style>\n",
       "<table border=\"1\" class=\"dataframe\">\n",
       "  <thead>\n",
       "    <tr style=\"text-align: right;\">\n",
       "      <th></th>\n",
       "      <th>STANDING</th>\n",
       "      <th>PIZZA_TOPPING</th>\n",
       "    </tr>\n",
       "  </thead>\n",
       "  <tbody>\n",
       "    <tr>\n",
       "      <th>0</th>\n",
       "      <td>Grad</td>\n",
       "      <td>Other</td>\n",
       "    </tr>\n",
       "    <tr>\n",
       "      <th>1</th>\n",
       "      <td>Sophomore</td>\n",
       "      <td>pepperoni</td>\n",
       "    </tr>\n",
       "    <tr>\n",
       "      <th>2</th>\n",
       "      <td>Junior</td>\n",
       "      <td>pepperoni</td>\n",
       "    </tr>\n",
       "    <tr>\n",
       "      <th>3</th>\n",
       "      <td>Senior</td>\n",
       "      <td>pepperoni</td>\n",
       "    </tr>\n",
       "  </tbody>\n",
       "</table>\n",
       "</div>"
      ],
      "text/plain": [
       "    STANDING PIZZA_TOPPING\n",
       "0       Grad         Other\n",
       "1  Sophomore     pepperoni\n",
       "2     Junior     pepperoni\n",
       "3     Senior     pepperoni"
      ]
     },
     "execution_count": 126,
     "metadata": {},
     "output_type": "execute_result"
    }
   ],
   "source": [
    "df = pd.read_sql(\"\"\"\n",
    "                 \n",
    "with toppings_ranked as (\n",
    "  select STANDING, PIZZA_TOPPING, count(PIZZA_TOPPING) as topping_count,\n",
    "    ROW_NUMBER() over (PARTITION BY STANDING order by COUNT(PIZZA_TOPPING) DESC) as rank\n",
    "  from SURVEY_schema.transform_survey\n",
    "  group by STANDING, PIZZA_TOPPING\n",
    ")\n",
    "        \n",
    "select STANDING, PIZZA_TOPPING\n",
    "from toppings_ranked\n",
    "where rank = 1     \n",
    "\"\"\", conn)\n",
    "df"
   ]
  },
  {
   "cell_type": "markdown",
   "metadata": {},
   "source": [
    "### Q11: How many people in each class are night owls and early birds?"
   ]
  },
  {
   "cell_type": "code",
   "execution_count": 124,
   "metadata": {},
   "outputs": [
    {
     "name": "stderr",
     "output_type": "stream",
     "text": [
      "/tmp/ipykernel_2176430/2804206304.py:1: UserWarning: pandas only supports SQLAlchemy connectable (engine/connection) or database string URI or sqlite3 DBAPI2 connection. Other DBAPI2 objects are not tested. Please consider using SQLAlchemy.\n",
      "  df = pd.read_sql(\"\"\"\n"
     ]
    },
    {
     "data": {
      "text/html": [
       "<div>\n",
       "<style scoped>\n",
       "    .dataframe tbody tr th:only-of-type {\n",
       "        vertical-align: middle;\n",
       "    }\n",
       "\n",
       "    .dataframe tbody tr th {\n",
       "        vertical-align: top;\n",
       "    }\n",
       "\n",
       "    .dataframe thead th {\n",
       "        text-align: right;\n",
       "    }\n",
       "</style>\n",
       "<table border=\"1\" class=\"dataframe\">\n",
       "  <thead>\n",
       "    <tr style=\"text-align: right;\">\n",
       "      <th></th>\n",
       "      <th>STANDING</th>\n",
       "      <th>EARLYBIRD_NIGHTOWL</th>\n",
       "      <th>COUNT</th>\n",
       "    </tr>\n",
       "  </thead>\n",
       "  <tbody>\n",
       "    <tr>\n",
       "      <th>0</th>\n",
       "      <td>Sophomore</td>\n",
       "      <td>night owl</td>\n",
       "      <td>15</td>\n",
       "    </tr>\n",
       "    <tr>\n",
       "      <th>1</th>\n",
       "      <td>Sophomore</td>\n",
       "      <td>early bird</td>\n",
       "      <td>5</td>\n",
       "    </tr>\n",
       "    <tr>\n",
       "      <th>2</th>\n",
       "      <td>Senior</td>\n",
       "      <td>night owl</td>\n",
       "      <td>40</td>\n",
       "    </tr>\n",
       "    <tr>\n",
       "      <th>3</th>\n",
       "      <td>Senior</td>\n",
       "      <td>early bird</td>\n",
       "      <td>14</td>\n",
       "    </tr>\n",
       "    <tr>\n",
       "      <th>4</th>\n",
       "      <td>Junior</td>\n",
       "      <td>night owl</td>\n",
       "      <td>38</td>\n",
       "    </tr>\n",
       "    <tr>\n",
       "      <th>5</th>\n",
       "      <td>Junior</td>\n",
       "      <td>early bird</td>\n",
       "      <td>7</td>\n",
       "    </tr>\n",
       "    <tr>\n",
       "      <th>6</th>\n",
       "      <td>Grad</td>\n",
       "      <td>night owl</td>\n",
       "      <td>8</td>\n",
       "    </tr>\n",
       "    <tr>\n",
       "      <th>7</th>\n",
       "      <td>Grad</td>\n",
       "      <td>early bird</td>\n",
       "      <td>7</td>\n",
       "    </tr>\n",
       "  </tbody>\n",
       "</table>\n",
       "</div>"
      ],
      "text/plain": [
       "    STANDING EARLYBIRD_NIGHTOWL  COUNT\n",
       "0  Sophomore          night owl     15\n",
       "1  Sophomore         early bird      5\n",
       "2     Senior          night owl     40\n",
       "3     Senior         early bird     14\n",
       "4     Junior          night owl     38\n",
       "5     Junior         early bird      7\n",
       "6       Grad          night owl      8\n",
       "7       Grad         early bird      7"
      ]
     },
     "execution_count": 124,
     "metadata": {},
     "output_type": "execute_result"
    }
   ],
   "source": [
    "df = pd.read_sql(\"\"\"\n",
    "\n",
    "select STANDING, EARLYBIRD_NIGHTOWL, count(*) as count\n",
    "from SURVEY_schema.transform_survey\n",
    "where EARLYBIRD_NIGHTOWL != 'no preference'\n",
    "group by STANDING, EARLYBIRD_NIGHTOWL\n",
    "order by STANDING DESC\n",
    "\"\"\", conn)\n",
    "df"
   ]
  },
  {
   "cell_type": "markdown",
   "metadata": {},
   "source": [
    "### Q12: Create a piechart breaking down pizza toppings."
   ]
  },
  {
   "cell_type": "code",
   "execution_count": 43,
   "metadata": {},
   "outputs": [
    {
     "name": "stderr",
     "output_type": "stream",
     "text": [
      "/tmp/ipykernel_2181426/1533130511.py:1: UserWarning: pandas only supports SQLAlchemy connectable (engine/connection) or database string URI or sqlite3 DBAPI2 connection. Other DBAPI2 objects are not tested. Please consider using SQLAlchemy.\n",
      "  df = pd.read_sql(\"\"\"\n"
     ]
    },
    {
     "data": {
      "image/png": "[encoded data removed]",
      "text/plain": [
       "<Figure size 1000x600 with 1 Axes>"
      ]
     },
     "metadata": {},
     "output_type": "display_data"
    }
   ],
   "source": [
    "df = pd.read_sql(\"\"\"\n",
    "select PIZZA_TOPPING, count(*) as count\n",
    "from SURVEY_schema.transform_survey\n",
    "group by PIZZA_TOPPING\n",
    "\"\"\", conn)\n",
    "\n",
    "plt.figure(figsize=(10, 6))\n",
    "plt.pie(df['COUNT'], labels=df['PIZZA_TOPPING'], startangle=140, autopct='%1.1f%%')\n",
    "plt.axis('equal')\n",
    "plt.title('Pizza Topping Distribution')\n",
    "plt.show()"
   ]
  },
  {
   "cell_type": "markdown",
   "metadata": {},
   "source": [
    "### Q13: How are secondary majors distrubuted by students' primary majors?"
   ]
  },
  {
   "cell_type": "code",
   "execution_count": 102,
   "metadata": {},
   "outputs": [
    {
     "name": "stderr",
     "output_type": "stream",
     "text": [
      "/tmp/ipykernel_2176430/2073012315.py:1: UserWarning: pandas only supports SQLAlchemy connectable (engine/connection) or database string URI or sqlite3 DBAPI2 connection. Other DBAPI2 objects are not tested. Please consider using SQLAlchemy.\n",
      "  df = pd.read_sql(\"\"\"\n"
     ]
    },
    {
     "data": {
      "image/png": "[encoded data removed]",
      "text/plain": [
       "<Figure size 1200x800 with 1 Axes>"
      ]
     },
     "metadata": {},
     "output_type": "display_data"
    }
   ],
   "source": [
    "df = pd.read_sql(\"\"\"\n",
    "select PRIMARY_MAJOR, SECONDARY_MAJOR, count(*) as count\n",
    "from SURVEY_schema.transform_survey\n",
    "group by PRIMARY_MAJOR, SECONDARY_MAJOR\n",
    "\"\"\", conn)\n",
    "\n",
    "df['SECONDARY_MAJOR'] = df['SECONDARY_MAJOR'].fillna('N/A')\n",
    "df = df.pivot_table(index='PRIMARY_MAJOR', columns='SECONDARY_MAJOR', values='COUNT')\n",
    "\n",
    "df.plot(kind='bar', stacked=True, figsize=(12,8), colormap='tab20') # colormap required or else duplicate colors\n",
    "plt.title('Distribution of Secondary Majors by Primary Major')\n",
    "plt.xlabel('Primary Major')\n",
    "plt.ylabel('Count')\n",
    "plt.xticks(rotation=45)\n",
    "plt.legend(title='Secondary Major', bbox_to_anchor=(1, 1))\n",
    "plt.show()"
   ]
  },
  {
   "cell_type": "markdown",
   "metadata": {},
   "source": [
    "### Q14: How does sleep preference differ between primary majors?"
   ]
  },
  {
   "cell_type": "code",
   "execution_count": 107,
   "metadata": {},
   "outputs": [
    {
     "name": "stderr",
     "output_type": "stream",
     "text": [
      "/tmp/ipykernel_2176430/2227040216.py:1: UserWarning: pandas only supports SQLAlchemy connectable (engine/connection) or database string URI or sqlite3 DBAPI2 connection. Other DBAPI2 objects are not tested. Please consider using SQLAlchemy.\n",
      "  df = pd.read_sql(\"\"\"\n"
     ]
    },
    {
     "data": {
      "text/html": [
       "<div>\n",
       "<style scoped>\n",
       "    .dataframe tbody tr th:only-of-type {\n",
       "        vertical-align: middle;\n",
       "    }\n",
       "\n",
       "    .dataframe tbody tr th {\n",
       "        vertical-align: top;\n",
       "    }\n",
       "\n",
       "    .dataframe thead th {\n",
       "        text-align: right;\n",
       "    }\n",
       "</style>\n",
       "<table border=\"1\" class=\"dataframe\">\n",
       "  <thead>\n",
       "    <tr style=\"text-align: right;\">\n",
       "      <th></th>\n",
       "      <th>PRIMARY_MAJOR</th>\n",
       "      <th>EARLYBIRD_NIGHTOWL</th>\n",
       "      <th>COUNT</th>\n",
       "    </tr>\n",
       "  </thead>\n",
       "  <tbody>\n",
       "    <tr>\n",
       "      <th>0</th>\n",
       "      <td>Business: Actuarial</td>\n",
       "      <td>early bird</td>\n",
       "      <td>1</td>\n",
       "    </tr>\n",
       "    <tr>\n",
       "      <th>1</th>\n",
       "      <td>Business: Information Systems</td>\n",
       "      <td>night owl</td>\n",
       "      <td>1</td>\n",
       "    </tr>\n",
       "    <tr>\n",
       "      <th>2</th>\n",
       "      <td>Business: Other</td>\n",
       "      <td>early bird</td>\n",
       "      <td>1</td>\n",
       "    </tr>\n",
       "    <tr>\n",
       "      <th>3</th>\n",
       "      <td>Computer Science</td>\n",
       "      <td>night owl</td>\n",
       "      <td>51</td>\n",
       "    </tr>\n",
       "    <tr>\n",
       "      <th>4</th>\n",
       "      <td>Computer Science</td>\n",
       "      <td>no preference</td>\n",
       "      <td>12</td>\n",
       "    </tr>\n",
       "    <tr>\n",
       "      <th>5</th>\n",
       "      <td>Computer Science</td>\n",
       "      <td>early bird</td>\n",
       "      <td>13</td>\n",
       "    </tr>\n",
       "    <tr>\n",
       "      <th>6</th>\n",
       "      <td>Data Science</td>\n",
       "      <td>no preference</td>\n",
       "      <td>13</td>\n",
       "    </tr>\n",
       "    <tr>\n",
       "      <th>7</th>\n",
       "      <td>Data Science</td>\n",
       "      <td>night owl</td>\n",
       "      <td>39</td>\n",
       "    </tr>\n",
       "    <tr>\n",
       "      <th>8</th>\n",
       "      <td>Data Science</td>\n",
       "      <td>early bird</td>\n",
       "      <td>17</td>\n",
       "    </tr>\n",
       "    <tr>\n",
       "      <th>9</th>\n",
       "      <td>Engineering: Other</td>\n",
       "      <td>night owl</td>\n",
       "      <td>2</td>\n",
       "    </tr>\n",
       "    <tr>\n",
       "      <th>10</th>\n",
       "      <td>Mathematics/AMEP</td>\n",
       "      <td>night owl</td>\n",
       "      <td>4</td>\n",
       "    </tr>\n",
       "    <tr>\n",
       "      <th>11</th>\n",
       "      <td>Other</td>\n",
       "      <td>night owl</td>\n",
       "      <td>1</td>\n",
       "    </tr>\n",
       "    <tr>\n",
       "      <th>12</th>\n",
       "      <td>Science: Physics</td>\n",
       "      <td>night owl</td>\n",
       "      <td>1</td>\n",
       "    </tr>\n",
       "    <tr>\n",
       "      <th>13</th>\n",
       "      <td>Science: Physics</td>\n",
       "      <td>early bird</td>\n",
       "      <td>1</td>\n",
       "    </tr>\n",
       "    <tr>\n",
       "      <th>14</th>\n",
       "      <td>Statistics</td>\n",
       "      <td>night owl</td>\n",
       "      <td>2</td>\n",
       "    </tr>\n",
       "  </tbody>\n",
       "</table>\n",
       "</div>"
      ],
      "text/plain": [
       "                    PRIMARY_MAJOR EARLYBIRD_NIGHTOWL  COUNT\n",
       "0             Business: Actuarial         early bird      1\n",
       "1   Business: Information Systems          night owl      1\n",
       "2                 Business: Other         early bird      1\n",
       "3                Computer Science          night owl     51\n",
       "4                Computer Science      no preference     12\n",
       "5                Computer Science         early bird     13\n",
       "6                    Data Science      no preference     13\n",
       "7                    Data Science          night owl     39\n",
       "8                    Data Science         early bird     17\n",
       "9              Engineering: Other          night owl      2\n",
       "10               Mathematics/AMEP          night owl      4\n",
       "11                          Other          night owl      1\n",
       "12               Science: Physics          night owl      1\n",
       "13               Science: Physics         early bird      1\n",
       "14                     Statistics          night owl      2"
      ]
     },
     "execution_count": 107,
     "metadata": {},
     "output_type": "execute_result"
    }
   ],
   "source": [
    "df = pd.read_sql(\"\"\"\n",
    "select PRIMARY_MAJOR,EARLYBIRD_NIGHTOWL, count(*) as count\n",
    "from SURVEY_schema.transform_survey\n",
    "group by PRIMARY_MAJOR, EARLYBIRD_NIGHTOWL\n",
    "order by PRIMARY_MAJOR\n",
    "\"\"\", conn)\n",
    "df"
   ]
  },
  {
   "cell_type": "markdown",
   "metadata": {},
   "source": [
    "### Q15: How many procrastinators are there per class?"
   ]
  },
  {
   "cell_type": "code",
   "execution_count": 134,
   "metadata": {},
   "outputs": [
    {
     "name": "stderr",
     "output_type": "stream",
     "text": [
      "/tmp/ipykernel_2176430/1389367650.py:1: UserWarning: pandas only supports SQLAlchemy connectable (engine/connection) or database string URI or sqlite3 DBAPI2 connection. Other DBAPI2 objects are not tested. Please consider using SQLAlchemy.\n",
      "  df = pd.read_sql(\"\"\"\n"
     ]
    },
    {
     "data": {
      "text/html": [
       "<div>\n",
       "<style scoped>\n",
       "    .dataframe tbody tr th:only-of-type {\n",
       "        vertical-align: middle;\n",
       "    }\n",
       "\n",
       "    .dataframe tbody tr th {\n",
       "        vertical-align: top;\n",
       "    }\n",
       "\n",
       "    .dataframe thead th {\n",
       "        text-align: right;\n",
       "    }\n",
       "</style>\n",
       "<table border=\"1\" class=\"dataframe\">\n",
       "  <thead>\n",
       "    <tr style=\"text-align: right;\">\n",
       "      <th></th>\n",
       "      <th>STANDING</th>\n",
       "      <th>COUNT</th>\n",
       "    </tr>\n",
       "  </thead>\n",
       "  <tbody>\n",
       "    <tr>\n",
       "      <th>0</th>\n",
       "      <td>Sophomore</td>\n",
       "      <td>15</td>\n",
       "    </tr>\n",
       "    <tr>\n",
       "      <th>1</th>\n",
       "      <td>Senior</td>\n",
       "      <td>34</td>\n",
       "    </tr>\n",
       "    <tr>\n",
       "      <th>2</th>\n",
       "      <td>Junior</td>\n",
       "      <td>30</td>\n",
       "    </tr>\n",
       "    <tr>\n",
       "      <th>3</th>\n",
       "      <td>Grad</td>\n",
       "      <td>11</td>\n",
       "    </tr>\n",
       "  </tbody>\n",
       "</table>\n",
       "</div>"
      ],
      "text/plain": [
       "    STANDING  COUNT\n",
       "0  Sophomore     15\n",
       "1     Senior     34\n",
       "2     Junior     30\n",
       "3       Grad     11"
      ]
     },
     "execution_count": 134,
     "metadata": {},
     "output_type": "execute_result"
    }
   ],
   "source": [
    "df = pd.read_sql(\"\"\"\n",
    "select STANDING, count(*) as count\n",
    "from SURVEY_schema.transform_survey\n",
    "where PROCRASTINATION = 'Yes'\n",
    "group by STANDING\n",
    "\"\"\", conn)\n",
    "df"
   ]
  },
  {
   "cell_type": "markdown",
   "metadata": {},
   "source": [
    "### Q16: What are the top 5 zipcodes that students reside in?"
   ]
  },
  {
   "cell_type": "code",
   "execution_count": 121,
   "metadata": {},
   "outputs": [
    {
     "name": "stderr",
     "output_type": "stream",
     "text": [
      "/tmp/ipykernel_2176430/2225775496.py:1: UserWarning: pandas only supports SQLAlchemy connectable (engine/connection) or database string URI or sqlite3 DBAPI2 connection. Other DBAPI2 objects are not tested. Please consider using SQLAlchemy.\n",
      "  df = pd.read_sql(\"\"\"\n"
     ]
    },
    {
     "data": {
      "text/html": [
       "<div>\n",
       "<style scoped>\n",
       "    .dataframe tbody tr th:only-of-type {\n",
       "        vertical-align: middle;\n",
       "    }\n",
       "\n",
       "    .dataframe tbody tr th {\n",
       "        vertical-align: top;\n",
       "    }\n",
       "\n",
       "    .dataframe thead th {\n",
       "        text-align: right;\n",
       "    }\n",
       "</style>\n",
       "<table border=\"1\" class=\"dataframe\">\n",
       "  <thead>\n",
       "    <tr style=\"text-align: right;\">\n",
       "      <th></th>\n",
       "      <th>ZIPCODE</th>\n",
       "      <th>RESIDENT_COUNT</th>\n",
       "    </tr>\n",
       "  </thead>\n",
       "  <tbody>\n",
       "    <tr>\n",
       "      <th>0</th>\n",
       "      <td>53703</td>\n",
       "      <td>68</td>\n",
       "    </tr>\n",
       "    <tr>\n",
       "      <th>1</th>\n",
       "      <td>53715</td>\n",
       "      <td>48</td>\n",
       "    </tr>\n",
       "    <tr>\n",
       "      <th>2</th>\n",
       "      <td>53706</td>\n",
       "      <td>11</td>\n",
       "    </tr>\n",
       "    <tr>\n",
       "      <th>3</th>\n",
       "      <td>53705</td>\n",
       "      <td>8</td>\n",
       "    </tr>\n",
       "    <tr>\n",
       "      <th>4</th>\n",
       "      <td>53711</td>\n",
       "      <td>7</td>\n",
       "    </tr>\n",
       "  </tbody>\n",
       "</table>\n",
       "</div>"
      ],
      "text/plain": [
       "  ZIPCODE  RESIDENT_COUNT\n",
       "0   53703              68\n",
       "1   53715              48\n",
       "2   53706              11\n",
       "3   53705               8\n",
       "4   53711               7"
      ]
     },
     "execution_count": 121,
     "metadata": {},
     "output_type": "execute_result"
    }
   ],
   "source": [
    "df = pd.read_sql(\"\"\"\n",
    "select ZIPCODE, count(*) as resident_count\n",
    "from  SURVEY_schema.transform_survey\n",
    "where ZIPCODE is not null\n",
    "group by ZIPCODE\n",
    "order by resident_count DESC\n",
    "limit 5\n",
    "                 \n",
    "\"\"\", conn)\n",
    "df"
   ]
  },
  {
   "cell_type": "markdown",
   "metadata": {},
   "source": [
    "### Q18: Configure ~/.dbt/profiles.yml for STOCK_DB"
   ]
  },
  {
   "cell_type": "code",
   "execution_count": 18,
   "metadata": {},
   "outputs": [
    {
     "name": "stdout",
     "output_type": "stream",
     "text": [
      "p4_survey_pipeline:\n",
      "  target: dev # by default\n",
      "  outputs:\n",
      "    dev:\n",
      "      type: snowflake\n",
      "      account: QK52109.us-central1.gcp\n",
      "      user: AVLASIK\n",
      "      role: P4_ROLE\n",
      "      database: SURVEY_DATABASE \n",
      "      warehouse: P4_WAREHOUSE\n",
      "      schema: SURVEY_SCHEMA\n",
      "      threads: 10\n",
      "\n",
      "    other_db:\n",
      "      type: snowflake\n",
      "      account: QK52109.us-central1.gcp\n",
      "      user: AVLASIK\n",
      "      role: P4_ROLE\n",
      "      database: STOCK_DB\n",
      "      warehouse: P4_WAREHOUSE\n",
      "      schema: STOCK_SCHEMA\n",
      "      threads: 10\n"
     ]
    }
   ],
   "source": [
    "!grep -v password ~/.dbt/profiles.yml"
   ]
  },
  {
   "cell_type": "markdown",
   "metadata": {},
   "source": [
    "### Q19: Update models/schema.yml file to include new sources for STOCK_DB tables "
   ]
  },
  {
   "cell_type": "code",
   "execution_count": 20,
   "metadata": {},
   "outputs": [
    {
     "name": "stdout",
     "output_type": "stream",
     "text": [
      "version: 2\n",
      "\n",
      "sources:\n",
      "  - name: survey_data\n",
      "    database: SURVEY_DATABASE\n",
      "    schema: SURVEY_SCHEMA\n",
      "    tables:\n",
      "      - name: survey \n",
      "  - name: stock_by_day\n",
      "    database: STOCK_TRACKING_US_STOCK_PRICES_BY_DAY\n",
      "    schema: STOCK\n",
      "    tables:\n",
      "      - name: US_STOCK_METRICS\n",
      "  - name: fx_by_day\n",
      "    database: FOREX_TRACKING_CURRENCY_EXCHANGE_RATES_BY_DAY\n",
      "    schema: STOCK\n",
      "    tables:\n",
      "      - name: FOREX_METRICS\n",
      "  - name: airbyte_csv_data\n",
      "    database: STOCK_DB\n",
      "    schema: STOCK_SCHEMA\n",
      "    tables:\n",
      "      - name: TRADING_BOOKS\n",
      "      - name: WEIGHTS_TABLE"
     ]
    }
   ],
   "source": [
    "!cat p4_survey_pipeline/models/schema.yml"
   ]
  },
  {
   "cell_type": "markdown",
   "metadata": {},
   "source": [
    "### Q20: Create dbt_project.yml file in your dbt project directory --- p4_data_pipeline"
   ]
  },
  {
   "cell_type": "code",
   "execution_count": 21,
   "metadata": {},
   "outputs": [
    {
     "name": "stdout",
     "output_type": "stream",
     "text": [
      "\n",
      "# Name your project! Project names should contain only lowercase characters\n",
      "# and underscores. A good package name should reflect your organization's\n",
      "# name or the intended use of these models\n",
      "name: 'p4_survey_pipeline'\n",
      "version: '1.0.0'\n",
      "\n",
      "# This setting configures which \"profile\" dbt uses for this project.\n",
      "profile: 'p4_survey_pipeline'\n",
      "\n",
      "# These configurations specify where dbt should look for different types of files.\n",
      "# The `model-paths` config, for example, states that models in this project can be\n",
      "# found in the \"models/\" directory. You probably won't need to change these!\n",
      "model-paths: [\"models\"]\n",
      "analysis-paths: [\"analyses\"]\n",
      "test-paths: [\"tests\"]\n",
      "seed-paths: [\"seeds\"]\n",
      "macro-paths: [\"macros\"]\n",
      "snapshot-paths: [\"snapshots\"]\n",
      "\n",
      "clean-targets:         # directories to be removed by `dbt clean`\n",
      "  - \"target\"\n",
      "  - \"dbt_packages\"\n",
      "\n",
      "\n",
      "# Configuring models\n",
      "# Full documentation: https://docs.getdbt.com/docs/configuring-models\n",
      "\n",
      "# In this example config, we tell dbt to build all models in the example/\n",
      "# directory as views. These settings can be overridden in the individual model\n",
      "# files using the `{{ config(...) }}` macro.\n",
      "models:\n",
      "  p4_survey_pipeline:\n",
      "    # Config indicated by + and applies to all files under models/example/\n",
      "    staging:\n",
      "      +materialized: view\n",
      "      +warehouse: P4_WAREHOUSE\n",
      "    marts:\n",
      "      +materialized: table\n",
      "      +warehouse: P4_WAREHOUSE\n"
     ]
    }
   ],
   "source": [
    "!cat p4_survey_pipeline/dbt_project.yml"
   ]
  },
  {
   "cell_type": "markdown",
   "metadata": {},
   "source": [
    "### Q21: Creating staging tables for FX and Stock"
   ]
  },
  {
   "cell_type": "code",
   "execution_count": null,
   "metadata": {},
   "outputs": [
    {
     "name": "stdout",
     "output_type": "stream",
     "text": [
      "with raw_trading_books as (\n",
      "    select * from {{ source('airbyte_csv_data', 'TRADING_BOOKS') }}\n",
      ")\n",
      "\n",
      "select distinct TICKER, TRADE_DATE\n",
      "from raw_trading_books\n",
      "where DESK = 'Equity Desk'"
     ]
    }
   ],
   "source": [
    "!cat p4_survey_pipeline/models/staging/staging_valid_stock_tickers.sql"
   ]
  },
  {
   "cell_type": "code",
   "execution_count": 3,
   "metadata": {},
   "outputs": [
    {
     "name": "stdout",
     "output_type": "stream",
     "text": [
      "with raw_trading_books as (\n",
      "    select * from {{ source('airbyte_csv_data', 'TRADING_BOOKS') }}\n",
      ")\n",
      "\n",
      "select distinct TICKER, TRADE_DATE\n",
      "from raw_trading_books\n",
      "where DESK = 'FX Desk'"
     ]
    }
   ],
   "source": [
    "!cat p4_survey_pipeline/models/staging/staging_valid_fx_tickers.sql"
   ]
  },
  {
   "cell_type": "code",
   "execution_count": 4,
   "metadata": {},
   "outputs": [
    {
     "name": "stdout",
     "output_type": "stream",
     "text": [
      "with valid_stock as (\n",
      "    select *\n",
      "    from {{ ref('staging_valid_stock_tickers') }}\n",
      ")\n",
      "\n",
      "select a.TRADE_DATE,a.TICKER,\n",
      "       b.OPEN, b.CLOSE, b.HIGH, b.LOW\n",
      "from valid_stock a\n",
      "join {{ source('stock_by_day','US_STOCK_METRICS')}} b on a.TRADE_DATE = b.RUN_DATE and a.TICKER = b.TICKER\n"
     ]
    }
   ],
   "source": [
    "!cat p4_survey_pipeline/models/staging/staging_valid_stock_info.sql"
   ]
  },
  {
   "cell_type": "code",
   "execution_count": 6,
   "metadata": {},
   "outputs": [
    {
     "name": "stdout",
     "output_type": "stream",
     "text": [
      "with valid_fx as (\n",
      "    select *\n",
      "    from {{ ref('staging_valid_fx_tickers') }}\n",
      ")\n",
      "select a.TRADE_DATE,a.TICKER,\n",
      "       b.OPEN, b.CLOSE, b.HIGH, b.LOW\n",
      "from valid_fx a\n",
      "join {{ source('fx_by_day','FOREX_METRICS')}} b on a.TRADE_DATE = b.RUN_DATE and a.TICKER = b.CURRENCY_PAIR_NAME"
     ]
    }
   ],
   "source": [
    "!cat p4_survey_pipeline/models/staging/staging_valid_fx_info.sql"
   ]
  },
  {
   "cell_type": "code",
   "execution_count": null,
   "metadata": {},
   "outputs": [],
   "source": [
    "cursor.execute(\"USE DATABASE STOCK_DB\")\n",
    "cursor.execute(\"USE SCHEMA STOCK_SCHEMA\")"
   ]
  },
  {
   "cell_type": "code",
   "execution_count": null,
   "metadata": {},
   "outputs": [
    {
     "name": "stderr",
     "output_type": "stream",
     "text": [
      "/tmp/ipykernel_2181426/499862396.py:3: UserWarning: pandas only supports SQLAlchemy connectable (engine/connection) or database string URI or sqlite3 DBAPI2 connection. Other DBAPI2 objects are not tested. Please consider using SQLAlchemy.\n",
      "  df = pd.read_sql(\"\"\"\n"
     ]
    }
   ],
   "source": [
    "df = pd.read_sql(\"\"\"\n",
    "select *\n",
    "from staging_valid_stock_tickers\n",
    "\"\"\", conn)\n",
    "df.to_csv(os.path.join(\"files\",\"staging_valid_stock_tickers.csv\"), index=False)"
   ]
  },
  {
   "cell_type": "code",
   "execution_count": 16,
   "metadata": {},
   "outputs": [
    {
     "name": "stderr",
     "output_type": "stream",
     "text": [
      "/tmp/ipykernel_2181426/4093281619.py:1: UserWarning: pandas only supports SQLAlchemy connectable (engine/connection) or database string URI or sqlite3 DBAPI2 connection. Other DBAPI2 objects are not tested. Please consider using SQLAlchemy.\n",
      "  df = pd.read_sql(\"\"\"\n"
     ]
    }
   ],
   "source": [
    "df = pd.read_sql(\"\"\"\n",
    "select *\n",
    "from staging_valid_fx_tickers\n",
    "\"\"\", conn)\n",
    "df.to_csv(os.path.join(\"files\",\"staging_valid_fx_tickers.csv\"), index=False)"
   ]
  },
  {
   "cell_type": "code",
   "execution_count": 17,
   "metadata": {},
   "outputs": [
    {
     "name": "stderr",
     "output_type": "stream",
     "text": [
      "/tmp/ipykernel_2181426/2588108784.py:1: UserWarning: pandas only supports SQLAlchemy connectable (engine/connection) or database string URI or sqlite3 DBAPI2 connection. Other DBAPI2 objects are not tested. Please consider using SQLAlchemy.\n",
      "  df = pd.read_sql(\"\"\"\n"
     ]
    }
   ],
   "source": [
    "df = pd.read_sql(\"\"\"\n",
    "select *\n",
    "from staging_valid_fx_info\n",
    "\"\"\", conn)\n",
    "df.to_csv(os.path.join(\"files\",\"staging_valid_fx_info.csv\"), index=False)"
   ]
  },
  {
   "cell_type": "code",
   "execution_count": 18,
   "metadata": {},
   "outputs": [
    {
     "name": "stderr",
     "output_type": "stream",
     "text": [
      "/tmp/ipykernel_2181426/3165948775.py:1: UserWarning: pandas only supports SQLAlchemy connectable (engine/connection) or database string URI or sqlite3 DBAPI2 connection. Other DBAPI2 objects are not tested. Please consider using SQLAlchemy.\n",
      "  df = pd.read_sql(\"\"\"\n"
     ]
    }
   ],
   "source": [
    "df = pd.read_sql(\"\"\"\n",
    "select *\n",
    "from staging_valid_stock_info\n",
    "\"\"\", conn)\n",
    "df.to_csv(os.path.join(\"files\",\"staging_valid_stock_info.csv\"), index=False)"
   ]
  },
  {
   "cell_type": "markdown",
   "metadata": {},
   "source": [
    "### Q22: Create staging table for trading pairs"
   ]
  },
  {
   "cell_type": "code",
   "execution_count": 20,
   "metadata": {},
   "outputs": [
    {
     "name": "stdout",
     "output_type": "stream",
     "text": [
      "with raw_trading_books as (\n",
      "    select * from {{ source('airbyte_csv_data', 'TRADING_BOOKS') }}\n",
      "),\n",
      "buys as (\n",
      "    select TRADE_ID, TRADE_DATE, TRADER_NAME, DESK, TICKER, QUANTITY as QUANTITY_BUY, PRICE as PRICE_BUY\n",
      "    from raw_trading_books\n",
      "    where TRADE_TYPE = 'BUY'\n",
      "),\n",
      "\n",
      "sells as (\n",
      "    select TRADE_ID, TRADE_DATE, TRADER_NAME, DESK, TICKER, QUANTITY as QUANTITY_SELL, PRICE as PRICE_SELL\n",
      "    from raw_trading_books\n",
      "    where TRADE_TYPE = 'SELL'\n",
      ")\n",
      "\n",
      "select \n",
      "    a.TRADE_ID,\n",
      "    a.TRADE_DATE,\n",
      "    a.TRADER_NAME,\n",
      "    a.DESK,\n",
      "    a.TICKER,\n",
      "    a.QUANTITY_BUY,\n",
      "    a.PRICE_BUY,\n",
      "    b.QUANTITY_SELL,\n",
      "    b.PRICE_SELL\n",
      "from buys a\n",
      "join sells b on a.TRADE_DATE = b.TRADE_DATE and a.TRADER_NAME = b.TRADER_NAME and a.TICKER = b.TICKER\n",
      "order by b.TRADE_ID\n"
     ]
    }
   ],
   "source": [
    "!cat p4_survey_pipeline/models/staging/staging_buy_sell_joint.sql"
   ]
  },
  {
   "cell_type": "code",
   "execution_count": 21,
   "metadata": {},
   "outputs": [
    {
     "name": "stderr",
     "output_type": "stream",
     "text": [
      "/tmp/ipykernel_2181426/812603913.py:1: UserWarning: pandas only supports SQLAlchemy connectable (engine/connection) or database string URI or sqlite3 DBAPI2 connection. Other DBAPI2 objects are not tested. Please consider using SQLAlchemy.\n",
      "  df = pd.read_sql(\"\"\"\n"
     ]
    }
   ],
   "source": [
    "df = pd.read_sql(\"\"\"\n",
    "select *\n",
    "from staging_buy_sell_joint\n",
    "\"\"\", conn)\n",
    "df.to_csv(os.path.join(\"files\",\"staging_buy_sell_joint.csv\"), index=False)"
   ]
  },
  {
   "cell_type": "markdown",
   "metadata": {},
   "source": [
    "### Q23: Create a fact Table for trading data"
   ]
  },
  {
   "cell_type": "code",
   "execution_count": 28,
   "metadata": {},
   "outputs": [
    {
     "name": "stdout",
     "output_type": "stream",
     "text": [
      "with joint as (\n",
      "    select *\n",
      "    from {{ ref('staging_buy_sell_joint') }}\n",
      ")\n",
      "select TRADE_ID, (PRICE_BUY * QUANTITY_BUY) as BUY_MONEY, (PRICE_SELL * QUANTITY_SELL) as SELL_MONEY,\n",
      "        (PRICE_SELL * QUANTITY_SELL) - (PRICE_BUY * QUANTITY_BUY) as PROFIT\n",
      "from joint\n",
      "order by TRADE_ID"
     ]
    }
   ],
   "source": [
    "!cat p4_survey_pipeline/models/marts/fact_tab_trading.sql"
   ]
  },
  {
   "cell_type": "code",
   "execution_count": 29,
   "metadata": {},
   "outputs": [
    {
     "name": "stderr",
     "output_type": "stream",
     "text": [
      "/tmp/ipykernel_2181426/3693424954.py:1: UserWarning: pandas only supports SQLAlchemy connectable (engine/connection) or database string URI or sqlite3 DBAPI2 connection. Other DBAPI2 objects are not tested. Please consider using SQLAlchemy.\n",
      "  df = pd.read_sql(\"\"\"\n"
     ]
    }
   ],
   "source": [
    "df = pd.read_sql(\"\"\"\n",
    "select *\n",
    "from fact_tab_trading\n",
    "\"\"\", conn)\n",
    "df.to_csv(os.path.join(\"files\",\"fact_tab_trading.csv\"), index=False)"
   ]
  },
  {
   "cell_type": "markdown",
   "metadata": {},
   "source": [
    "### Q24: Compute total profit by desk"
   ]
  },
  {
   "cell_type": "code",
   "execution_count": 30,
   "metadata": {},
   "outputs": [
    {
     "name": "stderr",
     "output_type": "stream",
     "text": [
      "/tmp/ipykernel_2181426/2165385185.py:1: UserWarning: pandas only supports SQLAlchemy connectable (engine/connection) or database string URI or sqlite3 DBAPI2 connection. Other DBAPI2 objects are not tested. Please consider using SQLAlchemy.\n",
      "  df = pd.read_sql(\"\"\"\n"
     ]
    },
    {
     "data": {
      "text/html": [
       "<div>\n",
       "<style scoped>\n",
       "    .dataframe tbody tr th:only-of-type {\n",
       "        vertical-align: middle;\n",
       "    }\n",
       "\n",
       "    .dataframe tbody tr th {\n",
       "        vertical-align: top;\n",
       "    }\n",
       "\n",
       "    .dataframe thead th {\n",
       "        text-align: right;\n",
       "    }\n",
       "</style>\n",
       "<table border=\"1\" class=\"dataframe\">\n",
       "  <thead>\n",
       "    <tr style=\"text-align: right;\">\n",
       "      <th></th>\n",
       "      <th>DESK</th>\n",
       "      <th>TOTAL_PROFIT</th>\n",
       "    </tr>\n",
       "  </thead>\n",
       "  <tbody>\n",
       "    <tr>\n",
       "      <th>0</th>\n",
       "      <td>Equity Desk</td>\n",
       "      <td>2718.75</td>\n",
       "    </tr>\n",
       "    <tr>\n",
       "      <th>1</th>\n",
       "      <td>FX Desk</td>\n",
       "      <td>5000.00</td>\n",
       "    </tr>\n",
       "  </tbody>\n",
       "</table>\n",
       "</div>"
      ],
      "text/plain": [
       "          DESK  TOTAL_PROFIT\n",
       "0  Equity Desk       2718.75\n",
       "1      FX Desk       5000.00"
      ]
     },
     "execution_count": 30,
     "metadata": {},
     "output_type": "execute_result"
    }
   ],
   "source": [
    "df = pd.read_sql(\"\"\"\n",
    "select b.DESK, sum(a.PROFIT) as total_profit\n",
    "from fact_tab_trading a\n",
    "join TRADING_BOOKS b on a.TRADE_ID = b.TRADE_ID\n",
    "group by b.DESK\n",
    "\"\"\", conn)\n",
    "df"
   ]
  },
  {
   "cell_type": "markdown",
   "metadata": {},
   "source": [
    "### Q25: Compute profit rate by desk"
   ]
  },
  {
   "cell_type": "code",
   "execution_count": null,
   "metadata": {},
   "outputs": [
    {
     "name": "stderr",
     "output_type": "stream",
     "text": [
      "/tmp/ipykernel_2181426/2536606281.py:1: UserWarning: pandas only supports SQLAlchemy connectable (engine/connection) or database string URI or sqlite3 DBAPI2 connection. Other DBAPI2 objects are not tested. Please consider using SQLAlchemy.\n",
      "  df = pd.read_sql(\"\"\"\n"
     ]
    },
    {
     "data": {
      "text/html": [
       "<div>\n",
       "<style scoped>\n",
       "    .dataframe tbody tr th:only-of-type {\n",
       "        vertical-align: middle;\n",
       "    }\n",
       "\n",
       "    .dataframe tbody tr th {\n",
       "        vertical-align: top;\n",
       "    }\n",
       "\n",
       "    .dataframe thead th {\n",
       "        text-align: right;\n",
       "    }\n",
       "</style>\n",
       "<table border=\"1\" class=\"dataframe\">\n",
       "  <thead>\n",
       "    <tr style=\"text-align: right;\">\n",
       "      <th></th>\n",
       "      <th>DESK</th>\n",
       "      <th>PROFIT_RATE</th>\n",
       "    </tr>\n",
       "  </thead>\n",
       "  <tbody>\n",
       "    <tr>\n",
       "      <th>0</th>\n",
       "      <td>Equity Desk</td>\n",
       "      <td>0.012701</td>\n",
       "    </tr>\n",
       "    <tr>\n",
       "      <th>1</th>\n",
       "      <td>FX Desk</td>\n",
       "      <td>0.006342</td>\n",
       "    </tr>\n",
       "  </tbody>\n",
       "</table>\n",
       "</div>"
      ],
      "text/plain": [
       "          DESK  PROFIT_RATE\n",
       "0  Equity Desk     0.012701\n",
       "1      FX Desk     0.006342"
      ]
     },
     "execution_count": 38,
     "metadata": {},
     "output_type": "execute_result"
    }
   ],
   "source": [
    "\n",
    "df = pd.read_sql(\"\"\"\n",
    "select b.DESK, (sum(a.SELL_MONEY) - sum(a.BUY_MONEY)) / NULLIF(sum(a.BUY_MONEY),0) as profit_rate\n",
    "from fact_tab_trading a\n",
    "join TRADING_BOOKS b on a.TRADE_ID = b.TRADE_ID\n",
    "group by b.DESK\n",
    "\"\"\", conn)\n",
    "df"
   ]
  }
 ],
 "metadata": {
  "kernelspec": {
   "display_name": "p4-env",
   "language": "python",
   "name": "python3"
  },
  "language_info": {
   "codemirror_mode": {
    "name": "ipython",
    "version": 3
   },
   "file_extension": ".py",
   "mimetype": "text/x-python",
   "name": "python",
   "nbconvert_exporter": "python",
   "pygments_lexer": "ipython3",
   "version": "3.10.16"
  }
 },
 "nbformat": 4,
 "nbformat_minor": 2
}
