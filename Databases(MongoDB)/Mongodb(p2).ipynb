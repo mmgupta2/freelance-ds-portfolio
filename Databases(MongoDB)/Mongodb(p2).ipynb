{
 "cells": [
  {
   "cell_type": "code",
   "execution_count": 1,
   "id": "1fa708e0-1f1c-4343-a6da-f9d1beeeeb03",
   "metadata": {},
   "outputs": [],
   "source": [
    "# import statements\n",
    "import os\n",
    "from pymongo import MongoClient\n",
    "import bson\n",
    "import pickle\n",
    "from datetime import datetime, timedelta\n",
    "import geopandas as gpd\n",
    "import matplotlib.pyplot as plt\n",
    "from shapely.geometry import Point"
   ]
  },
  {
   "cell_type": "code",
   "execution_count": 20,
   "id": "b4257405-66cc-42af-8e92-5403aa0a0c89",
   "metadata": {
    "scrolled": true
   },
   "outputs": [
    {
     "name": "stdout",
     "output_type": "stream",
     "text": [
      "--2025-02-24 22:38:46--  https://github.com/CS639-Data-Management-for-Data-Science/s25/raw/main/p2/sample_mflix.zip\n",
      "Resolving github.com (github.com)... 140.82.113.3\n",
      "connected. to github.com (github.com)|140.82.113.3|:443... \n",
      "302 Foundest sent, awaiting response... \n",
      "Location: https://raw.githubusercontent.com/CS639-Data-Management-for-Data-Science/s25/main/p2/sample_mflix.zip [following]\n",
      "--2025-02-24 22:38:46--  https://raw.githubusercontent.com/CS639-Data-Management-for-Data-Science/s25/main/p2/sample_mflix.zip\n",
      "Resolving raw.githubusercontent.com (raw.githubusercontent.com)... 185.199.110.133, 185.199.111.133, 185.199.109.133, ...\n",
      "Connecting to raw.githubusercontent.com (raw.githubusercontent.com)|185.199.110.133|:443... connected.\n",
      "HTTP request sent, awaiting response... 200 OK\n",
      "Length: 15539889 (15M) [application/zip]\n",
      "Saving to: ‘sample_mflix.zip’\n",
      "\n",
      "sample_mflix.zip    100%[===================>]  14.82M  --.-KB/s    in 0.1s    \n",
      "\n",
      "2025-02-24 22:38:47 (114 MB/s) - ‘sample_mflix.zip’ saved [15539889/15539889]\n",
      "\n",
      "Archive:  sample_mflix.zip\n",
      "   creating: sample_mflix/\n",
      "  inflating: __MACOSX/._sample_mflix  \n",
      "  inflating: sample_mflix/sessions.json  \n",
      "  inflating: __MACOSX/sample_mflix/._sessions.json  \n",
      "  inflating: sample_mflix/movies.json  \n",
      "  inflating: __MACOSX/sample_mflix/._movies.json  \n",
      "  inflating: sample_mflix/comments.json  \n",
      "  inflating: __MACOSX/sample_mflix/._comments.json  \n",
      "  inflating: sample_mflix/theaters.json  \n",
      "  inflating: __MACOSX/sample_mflix/._theaters.json  \n",
      "  inflating: sample_mflix/users.json  \n",
      "  inflating: __MACOSX/sample_mflix/._users.json  \n"
     ]
    }
   ],
   "source": [
    "!wget https://github.com/CS639-Data-Management-for-Data-Science/s25/raw/main/p2/sample_mflix.zip\n",
    "!unzip sample_mflix.zip"
   ]
  },
  {
   "cell_type": "code",
   "execution_count": 2,
   "id": "88962de3-1178-4437-affe-ee0f493feca5",
   "metadata": {},
   "outputs": [],
   "source": [
    "# establish connection\n",
    "client = MongoClient('mongodb://localhost:27017/')\n",
    "db = client.sample_mflix"
   ]
  },
  {
   "cell_type": "code",
   "execution_count": 3,
   "id": "e3529f01-58e0-48db-adb5-aae170e00fe5",
   "metadata": {},
   "outputs": [
    {
     "data": {
      "text/plain": [
       "['comments', 'theaters', 'sessions', 'movies', 'users']"
      ]
     },
     "execution_count": 3,
     "metadata": {},
     "output_type": "execute_result"
    }
   ],
   "source": [
    "# load JSON\n",
    "json_dir = \"sample_mflix\"\n",
    "json_files = [f for f in os.listdir(json_dir) if f.endswith(\".json\")]\n",
    "collections = [f.replace(\".json\",\"\") for f in json_files]\n",
    "collections"
   ]
  },
  {
   "cell_type": "code",
   "execution_count": 3,
   "id": "3243a4a9-c485-4c0e-9f46-711021868fd8",
   "metadata": {},
   "outputs": [
    {
     "ename": "NameError",
     "evalue": "name 'json_files' is not defined",
     "output_type": "error",
     "traceback": [
      "\u001b[0;31m---------------------------------------------------------------------------\u001b[0m",
      "\u001b[0;31mNameError\u001b[0m                                 Traceback (most recent call last)",
      "Cell \u001b[0;32mIn[3], line 1\u001b[0m\n\u001b[0;32m----> 1\u001b[0m \u001b[38;5;28;01mfor\u001b[39;00m idx, json_file \u001b[38;5;129;01min\u001b[39;00m \u001b[38;5;28menumerate\u001b[39m(\u001b[43mjson_files\u001b[49m):\n\u001b[1;32m      2\u001b[0m     \u001b[38;5;28;01mwith\u001b[39;00m \u001b[38;5;28mopen\u001b[39m(os\u001b[38;5;241m.\u001b[39mpath\u001b[38;5;241m.\u001b[39mjoin(json_dir, json_file),\u001b[38;5;124m\"\u001b[39m\u001b[38;5;124mr\u001b[39m\u001b[38;5;124m\"\u001b[39m) \u001b[38;5;28;01mas\u001b[39;00m f:\n\u001b[1;32m      3\u001b[0m         \u001b[38;5;28;01mfor\u001b[39;00m line \u001b[38;5;129;01min\u001b[39;00m f:\n",
      "\u001b[0;31mNameError\u001b[0m: name 'json_files' is not defined"
     ]
    }
   ],
   "source": [
    "for idx, json_file in enumerate(json_files):\n",
    "    with open(os.path.join(json_dir, json_file),\"r\") as f:\n",
    "        for line in f:\n",
    "            data = bson.json_util.loads(line.strip())\n",
    "            db[collections[idx]].insert_one(data)\n",
    "        print(f\"Loaded {json_file} into the {collections[idx]} collection.\")"
   ]
  },
  {
   "cell_type": "code",
   "execution_count": 3,
   "id": "971121c2-c877-4a05-b7bf-dbce4761c26e",
   "metadata": {},
   "outputs": [
    {
     "data": {
      "text/plain": [
       "['movies', 'users', 'theaters', 'comments', 'sessions']"
      ]
     },
     "execution_count": 3,
     "metadata": {},
     "output_type": "execute_result"
    }
   ],
   "source": [
    "db.list_collection_names()"
   ]
  },
  {
   "cell_type": "code",
   "execution_count": 5,
   "id": "faca11d0-a236-47ab-b7a3-4d6b754cf31e",
   "metadata": {},
   "outputs": [
    {
     "data": {
      "text/plain": [
       "[{'_id': ObjectId('59b99db4cfa9a34dcd7885b6'),\n",
       "  'name': 'Ned Stark',\n",
       "  'email': 'sean_bean@gameofthron.es',\n",
       "  'password': '$2b$12$UREFwsRUoyF0CRqGNK0LzO0HM/jLhgUCNNIJ9RJAqMUQ74crlJ1Vu'},\n",
       " {'_id': ObjectId('59b99db4cfa9a34dcd7885b7'),\n",
       "  'name': 'Robert Baratheon',\n",
       "  'email': 'mark_addy@gameofthron.es',\n",
       "  'password': '$2b$12$yGqxLG9LZpXA2xVDhuPnSOZd.VURVkz7wgOLY3pnO0s7u2S1ZO32y'},\n",
       " {'_id': ObjectId('59b99db5cfa9a34dcd7885b8'),\n",
       "  'name': 'Jaime Lannister',\n",
       "  'email': 'nikolaj_coster-waldau@gameofthron.es',\n",
       "  'password': '$2b$12$6vz7wiwO.EI5Rilvq1zUc./9480gb1uPtXcahDxIadgyC3PS8XCUK'},\n",
       " {'_id': ObjectId('59b99db5cfa9a34dcd7885b9'),\n",
       "  'name': 'Catelyn Stark',\n",
       "  'email': 'michelle_fairley@gameofthron.es',\n",
       "  'password': '$2b$12$fiaTH5Sh1zKNFX2i/FTEreWGjxoJxvmV7XL.qlfqCr8CwOxK.mZWS'},\n",
       " {'_id': ObjectId('59b99db6cfa9a34dcd7885ba'),\n",
       "  'name': 'Cersei Lannister',\n",
       "  'email': 'lena_headey@gameofthron.es',\n",
       "  'password': '$2b$12$FExjgr7CLhNCa.oUsB9seub8mqcHzkJCFZ8heMc8CeIKOZfeTKP8m'}]"
      ]
     },
     "execution_count": 5,
     "metadata": {},
     "output_type": "execute_result"
    }
   ],
   "source": [
    "list(db.users.find().limit(5))"
   ]
  },
  {
   "cell_type": "markdown",
   "id": "60953d09-0efb-4a8c-8501-85217ecafd1c",
   "metadata": {},
   "source": [
    "# Section 1: Basic MQL operations #"
   ]
  },
  {
   "cell_type": "markdown",
   "id": "0e722b79-0451-4da3-8c37-3f2b9f8af811",
   "metadata": {},
   "source": [
    "### Q1: Find the first movie in the movies collection. ###"
   ]
  },
  {
   "cell_type": "code",
   "execution_count": 5,
   "id": "5cdddbf0-58b7-4cd6-b444-18dd16d65a81",
   "metadata": {
    "scrolled": true
   },
   "outputs": [
    {
     "data": {
      "text/plain": [
       "{'_id': ObjectId('573a1390f29313caabcd4135'),\n",
       " 'plot': 'Three men hammer on an anvil and pass a bottle of beer around.',\n",
       " 'genres': ['Short'],\n",
       " 'runtime': 1,\n",
       " 'cast': ['Charles Kayser', 'John Ott'],\n",
       " 'num_mflix_comments': 1,\n",
       " 'title': 'Blacksmith Scene',\n",
       " 'fullplot': 'A stationary camera looks at a large anvil with a blacksmith behind it and one on either side. The smith in the middle draws a heated metal rod from the fire, places it on the anvil, and all three begin a rhythmic hammering. After several blows, the metal goes back in the fire. One smith pulls out a bottle of beer, and they each take a swig. Then, out comes the glowing metal and the hammering resumes.',\n",
       " 'countries': ['USA'],\n",
       " 'released': datetime.datetime(1893, 5, 9, 0, 0),\n",
       " 'directors': ['William K.L. Dickson'],\n",
       " 'rated': 'UNRATED',\n",
       " 'awards': {'wins': 1, 'nominations': 0, 'text': '1 win.'},\n",
       " 'lastupdated': '2015-08-26 00:03:50.133000000',\n",
       " 'year': 1893,\n",
       " 'imdb': {'rating': 6.2, 'votes': 1189, 'id': 5},\n",
       " 'type': 'movie',\n",
       " 'tomatoes': {'viewer': {'rating': 3, 'numReviews': 184, 'meter': 32},\n",
       "  'lastUpdated': datetime.datetime(2015, 6, 28, 18, 34, 9)}}"
      ]
     },
     "execution_count": 5,
     "metadata": {},
     "output_type": "execute_result"
    }
   ],
   "source": [
    "#q1\n",
    "q1 = db.movies.find_one({})\n",
    "with open('answers/q1.pkl', 'wb') as f:\n",
    "   pickle.dump(q1, f)\n",
    "q1"
   ]
  },
  {
   "cell_type": "markdown",
   "id": "088a420e-7a2b-4883-b705-dae4733b84b2",
   "metadata": {},
   "source": [
    "### Q2: Find all movies directed by \"Christopher Nolan\". ###"
   ]
  },
  {
   "cell_type": "code",
   "execution_count": 6,
   "id": "b523846e-8b8f-4722-8411-ca49733fc4ad",
   "metadata": {},
   "outputs": [
    {
     "data": {
      "text/plain": [
       "[{'_id': ObjectId('573a139df29313caabcf8dd4'),\n",
       "  'fullplot': \"An older man listens to Bill's story about being a callow writer who likes to follow strangers around London, observing them. One day, a glib and self-confident man whom Bill has been following confronts him. He's Cobb, a burglar who takes Bill under his wing and shows him how to break and enter. They burgle a woman's flat; Bill gets intrigued with her (photographs are everywhere in her flat). He follows her and chats her up at a bar owned by her ex-boyfriend, a nasty piece of work who killed someone in her living room with a hammer. Soon Bill is volunteering to do her a favor, which involves a break-in. What does the older man know that Bill doesn't?\",\n",
       "  'imdb': {'rating': 7.6, 'votes': 59767, 'id': 154506},\n",
       "  'year': 1998,\n",
       "  'plot': 'A young writer who follows strangers for material meets a thief who takes him under his wing.',\n",
       "  'genres': ['Mystery', 'Thriller'],\n",
       "  'rated': 'R',\n",
       "  'metacritic': 60,\n",
       "  'title': 'Following',\n",
       "  'lastupdated': '2015-08-13 00:26:04.177000000',\n",
       "  'languages': ['English'],\n",
       "  'writers': ['Christopher Nolan'],\n",
       "  'type': 'movie',\n",
       "  'tomatoes': {'viewer': {'rating': 3.8, 'numReviews': 21674, 'meter': 85},\n",
       "   'dvd': datetime.datetime(2001, 12, 11, 0, 0),\n",
       "   'critic': {'rating': 7.1, 'numReviews': 23, 'meter': 78},\n",
       "   'lastUpdated': datetime.datetime(2015, 8, 20, 19, 0, 55),\n",
       "   'consensus': \"Super brief but efficient, Following represents director Christopher Nolan's burgeoning talent in tight filmmaking and hard-edge noir.\",\n",
       "   'rotten': 5,\n",
       "   'production': 'IFC',\n",
       "   'fresh': 18},\n",
       "  'poster': 'https://m.media-amazon.com/images/M/MV5BMWZmNzk5M2QtOTM3MC00ZTg1LWJlYWMtMGIxZWVjODUwNTEzXkEyXkFqcGdeQXVyNjc1NTYyMjg@._V1_SY1000_SX677_AL_.jpg',\n",
       "  'num_mflix_comments': 2,\n",
       "  'released': datetime.datetime(1999, 11, 5, 0, 0),\n",
       "  'awards': {'wins': 5, 'nominations': 4, 'text': '5 wins & 4 nominations.'},\n",
       "  'countries': ['UK'],\n",
       "  'cast': ['Jeremy Theobald', 'Alex Haw', 'Lucy Russell', 'John Nolan'],\n",
       "  'directors': ['Christopher Nolan'],\n",
       "  'runtime': 69}]"
      ]
     },
     "execution_count": 6,
     "metadata": {},
     "output_type": "execute_result"
    }
   ],
   "source": [
    "#q2\n",
    "q2 = list(db.movies.find({\n",
    "    \"directors\": {\"$eq\": [\"Christopher Nolan\"]}\n",
    "} \n",
    "))\n",
    "with open('answers/q2.pkl', 'wb') as f:\n",
    "   pickle.dump(q2, f)\n",
    "q2[:1]"
   ]
  },
  {
   "cell_type": "markdown",
   "id": "fb1b4d84-b30e-4690-9b3c-c85399f0d73a",
   "metadata": {},
   "source": [
    "### Q3: Find the first 5 users in the users collection. ###"
   ]
  },
  {
   "cell_type": "code",
   "execution_count": 7,
   "id": "256560f0-4de2-45d0-b7e0-b9aa058c9b02",
   "metadata": {},
   "outputs": [
    {
     "data": {
      "text/plain": [
       "[{'_id': ObjectId('59b99db4cfa9a34dcd7885b6'),\n",
       "  'name': 'Ned Stark',\n",
       "  'email': 'sean_bean@gameofthron.es',\n",
       "  'password': '$2b$12$UREFwsRUoyF0CRqGNK0LzO0HM/jLhgUCNNIJ9RJAqMUQ74crlJ1Vu'},\n",
       " {'_id': ObjectId('59b99db4cfa9a34dcd7885b7'),\n",
       "  'name': 'Robert Baratheon',\n",
       "  'email': 'mark_addy@gameofthron.es',\n",
       "  'password': '$2b$12$yGqxLG9LZpXA2xVDhuPnSOZd.VURVkz7wgOLY3pnO0s7u2S1ZO32y'},\n",
       " {'_id': ObjectId('59b99db5cfa9a34dcd7885b8'),\n",
       "  'name': 'Jaime Lannister',\n",
       "  'email': 'nikolaj_coster-waldau@gameofthron.es',\n",
       "  'password': '$2b$12$6vz7wiwO.EI5Rilvq1zUc./9480gb1uPtXcahDxIadgyC3PS8XCUK'}]"
      ]
     },
     "execution_count": 7,
     "metadata": {},
     "output_type": "execute_result"
    }
   ],
   "source": [
    "#q3\n",
    "q3 = list(db.users.find({\n",
    "} \n",
    ").limit(5))\n",
    "with open('answers/q3.pkl', 'wb') as f:\n",
    "   pickle.dump(q3, f)\n",
    "q3[:3]"
   ]
  },
  {
   "cell_type": "markdown",
   "id": "0b22a201-5bb3-4e3a-9494-bf05ca51ddb3",
   "metadata": {},
   "source": [
    "### Q4: Find the first movie with an IMDb rating greater than 9. ###"
   ]
  },
  {
   "cell_type": "code",
   "execution_count": 123,
   "id": "1299f8c1-f08a-48da-aeb7-49d4be0c5dc2",
   "metadata": {},
   "outputs": [
    {
     "data": {
      "text/plain": [
       "{'_id': ObjectId('573a1396f29313caabce4a9a'),\n",
       " 'fullplot': 'When the aging head of a famous crime family decides to transfer his position to one of his subalterns, a series of unfortunate events start happening to the family, and a war begins between all the well-known families leading to insolence, deportation, murder and revenge, and ends with the favorable successor being finally chosen.',\n",
       " 'imdb': {'rating': 9.2, 'votes': 1038358, 'id': 68646},\n",
       " 'year': 1972,\n",
       " 'plot': 'The aging patriarch of an organized crime dynasty transfers control of his clandestine empire to his reluctant son.',\n",
       " 'genres': ['Crime', 'Drama'],\n",
       " 'rated': 'R',\n",
       " 'metacritic': 100,\n",
       " 'title': 'The Godfather',\n",
       " 'lastupdated': '2015-09-02 00:08:23.680000000',\n",
       " 'languages': ['English', 'Italian', 'Latin'],\n",
       " 'writers': ['Mario Puzo (screenplay)',\n",
       "  'Francis Ford Coppola (screenplay)',\n",
       "  'Mario Puzo (novel)'],\n",
       " 'type': 'movie',\n",
       " 'tomatoes': {'website': 'http://www.thegodfather.com',\n",
       "  'viewer': {'rating': 4.4, 'numReviews': 725773, 'meter': 98},\n",
       "  'dvd': datetime.datetime(2001, 10, 9, 0, 0),\n",
       "  'critic': {'rating': 9.2, 'numReviews': 84, 'meter': 99},\n",
       "  'lastUpdated': datetime.datetime(2015, 9, 12, 17, 15, 13),\n",
       "  'consensus': \"One of Hollywood's greatest critical and commercial successes, The Godfather gets everything right; not only did the movie transcend expectations, it established new benchmarks for American cinema.\",\n",
       "  'rotten': 1,\n",
       "  'production': 'Paramount Pictures',\n",
       "  'fresh': 83},\n",
       " 'poster': 'https://m.media-amazon.com/images/M/MV5BM2MyNjYxNmUtYTAwNi00MTYxLWJmNWYtYzZlODY3ZTk3OTFlXkEyXkFqcGdeQXVyNzkwMjQ5NzM@._V1_SY1000_SX677_AL_.jpg',\n",
       " 'num_mflix_comments': 380,\n",
       " 'released': datetime.datetime(1972, 3, 24, 0, 0),\n",
       " 'awards': {'wins': 33,\n",
       "  'nominations': 19,\n",
       "  'text': 'Won 3 Oscars. Another 30 wins & 19 nominations.'},\n",
       " 'countries': ['USA'],\n",
       " 'cast': ['Marlon Brando', 'Al Pacino', 'James Caan', 'Richard S. Castellano'],\n",
       " 'directors': ['Francis Ford Coppola'],\n",
       " 'runtime': 175}"
      ]
     },
     "execution_count": 123,
     "metadata": {},
     "output_type": "execute_result"
    }
   ],
   "source": [
    "#q4\n",
    "q4 = db.movies.find_one({\n",
    "    \"imdb.rating\" : {\"$gt\" : 9 }\n",
    "} \n",
    ")\n",
    "with open('answers/q4.pkl', 'wb') as f:\n",
    "   pickle.dump(q4, f)\n",
    "q4"
   ]
  },
  {
   "cell_type": "markdown",
   "id": "d1b7f5bf-0a63-4a64-8bdf-c65e78bb4d65",
   "metadata": {},
   "source": [
    "### Q5: Count the number of movies in the movies collection. ###"
   ]
  },
  {
   "cell_type": "code",
   "execution_count": 15,
   "id": "26db57bb-020b-4604-bc87-49b6cc616c40",
   "metadata": {},
   "outputs": [
    {
     "data": {
      "text/plain": [
       "23539"
      ]
     },
     "execution_count": 15,
     "metadata": {},
     "output_type": "execute_result"
    }
   ],
   "source": [
    "#q5\n",
    "q5 = db.movies.count_documents({})\n",
    "with open('answers/q5.pkl', 'wb') as f:\n",
    "   pickle.dump(q5, f)\n",
    "q5"
   ]
  },
  {
   "cell_type": "markdown",
   "id": "ae804eb6-e109-474f-94e3-c2a6b5c8bffb",
   "metadata": {},
   "source": [
    "### Q6: Count the number of movies released after the year 2000. ###"
   ]
  },
  {
   "cell_type": "code",
   "execution_count": 17,
   "id": "4cc7d0cb-733f-4377-9985-f2af80aff270",
   "metadata": {},
   "outputs": [
    {
     "data": {
      "text/plain": [
       "13103"
      ]
     },
     "execution_count": 17,
     "metadata": {},
     "output_type": "execute_result"
    }
   ],
   "source": [
    "#q6\n",
    "q6 = db.movies.count_documents({\n",
    "        \"year\": {\"$gt\": 2000}\n",
    "})\n",
    "with open('answers/q6.pkl', 'wb') as f:\n",
    "   pickle.dump(q6, f)\n",
    "q6"
   ]
  },
  {
   "cell_type": "markdown",
   "id": "24be3970-1af7-436e-80d0-1d5f78a74164",
   "metadata": {},
   "source": [
    "### Q7: Count the number of movies in the \"Comedy\" genre. ###"
   ]
  },
  {
   "cell_type": "code",
   "execution_count": 26,
   "id": "80ca4e9b-69ec-4121-8a27-126bad928bbc",
   "metadata": {},
   "outputs": [
    {
     "data": {
      "text/plain": [
       "7024"
      ]
     },
     "execution_count": 26,
     "metadata": {},
     "output_type": "execute_result"
    }
   ],
   "source": [
    "#q7\n",
    "q7 = db.movies.count_documents({\n",
    "        \"genres\": {\"$in\": [\"Comedy\"]}\n",
    "})\n",
    "with open('answers/q7.pkl', 'wb') as f:\n",
    "   pickle.dump(q7, f)\n",
    "q7"
   ]
  },
  {
   "cell_type": "markdown",
   "id": "91cf0135-2e4b-4ddc-b9b7-3b381923f94e",
   "metadata": {},
   "source": [
    "### Q8: Count the number of comments made by the user \"Taylor Hill\". ###"
   ]
  },
  {
   "cell_type": "code",
   "execution_count": 33,
   "id": "3db5bc64-2842-4b55-934f-24e4d0f5380b",
   "metadata": {},
   "outputs": [
    {
     "data": {
      "text/plain": [
       "279"
      ]
     },
     "execution_count": 33,
     "metadata": {},
     "output_type": "execute_result"
    }
   ],
   "source": [
    "#q8\n",
    "q8 = db.comments.count_documents({\n",
    "        \"name\": {\"$in\": [\"Taylor Hill\"]}\n",
    "})\n",
    "with open('answers/q8.pkl', 'wb') as f:\n",
    "   pickle.dump(q8, f)\n",
    "q8"
   ]
  },
  {
   "cell_type": "markdown",
   "id": "d49227a9-ca04-4bee-bd9f-cbaf2e1fd11f",
   "metadata": {},
   "source": [
    "### Q9: Count the number of movies with a runtime greater than 120 minutes. ###"
   ]
  },
  {
   "cell_type": "code",
   "execution_count": 36,
   "id": "f22e6985-0e16-4bfc-9a3c-958ecb91deef",
   "metadata": {},
   "outputs": [
    {
     "data": {
      "text/plain": [
       "3722"
      ]
     },
     "execution_count": 36,
     "metadata": {},
     "output_type": "execute_result"
    }
   ],
   "source": [
    "#q9\n",
    "q9 = db.movies.count_documents({\n",
    "        \"runtime\": {\"$gt\": 120}\n",
    "})\n",
    "with open('answers/q9.pkl', 'wb') as f:\n",
    "   pickle.dump(q9, f)\n",
    "q9"
   ]
  },
  {
   "cell_type": "markdown",
   "id": "c752fd5b-caac-4c60-bdd5-22960e31eb2b",
   "metadata": {},
   "source": [
    "### Q10: Find all movies released in year 2015. ###"
   ]
  },
  {
   "cell_type": "code",
   "execution_count": 58,
   "id": "713be10a-0339-4f31-bd0e-4724bc01168c",
   "metadata": {},
   "outputs": [
    {
     "data": {
      "text/plain": [
       "[{'title': 'Youth'}, {'title': 'Z for Zachariah'}, {'title': 'Zurich'}]"
      ]
     },
     "execution_count": 58,
     "metadata": {},
     "output_type": "execute_result"
    }
   ],
   "source": [
    "#q10\n",
    "q10 = list(db.movies.find({\n",
    "        \"year\": {\"$eq\": 2015}\n",
    "},{\"title\":1,\"_id\":0}).sort(\"title\",1))\n",
    "with open('answers/q10.pkl', 'wb') as f:\n",
    "   pickle.dump(q10, f)\n",
    "q10[-3:]"
   ]
  },
  {
   "cell_type": "markdown",
   "id": "eb6d8ba5-58d6-4f02-a2b6-d356650610fb",
   "metadata": {},
   "source": [
    "### Q11: Find the top 5 most recent comments. ###"
   ]
  },
  {
   "cell_type": "code",
   "execution_count": 69,
   "id": "fb9587e6-5150-41db-a1c1-a0bc03447f7e",
   "metadata": {},
   "outputs": [
    {
     "data": {
      "text/plain": [
       "[{'_id': ObjectId('5b7326fd4a68c3f7a7bcb188'),\n",
       "  'name': 'yznjm1yul',\n",
       "  'email': 'rio72go4u@wztfh.ep0',\n",
       "  'movie_id': ObjectId('573a13eff29313caabdd82f3'),\n",
       "  'text': 'feefee',\n",
       "  'date': datetime.datetime(2018, 8, 14, 15, 1, 16, 716000)},\n",
       " {'_id': ObjectId('5b7326bd4a68c3f7a7bcb15f'),\n",
       "  'name': 'sg1u6swo4',\n",
       "  'email': 'gs4jr54ar@6gvpw.ok0',\n",
       "  'movie_id': ObjectId('573a13eff29313caabdd82f3'),\n",
       "  'text': 'fazzlebizzle',\n",
       "  'date': datetime.datetime(2018, 8, 14, 15, 0, 25, 211000)},\n",
       " {'_id': ObjectId('5b7325024a68c3f7a7bcb123'),\n",
       "  'name': 'g7pnd0yy2',\n",
       "  'email': 'afobv6jhf@c9e0o.lb0',\n",
       "  'movie_id': ObjectId('573a13eff29313caabdd82f3'),\n",
       "  'text': 'fazzlebizzle',\n",
       "  'date': datetime.datetime(2018, 8, 14, 14, 53, 11, 550000)}]"
      ]
     },
     "execution_count": 69,
     "metadata": {},
     "output_type": "execute_result"
    }
   ],
   "source": [
    "#q11\n",
    "q11 = list(db.comments.find({\n",
    "\n",
    "}).sort(\"date\", -1).limit(5))\n",
    "with open('answers/q11.pkl', 'wb') as f:\n",
    "   pickle.dump(q11, f)\n",
    "q11[-3:]"
   ]
  },
  {
   "cell_type": "markdown",
   "id": "91881cee-c474-4f03-b496-bd6955c82e23",
   "metadata": {},
   "source": [
    "### Q12: Count the number of movies with both \"Action\" and \"Adventure\" as genres. ###"
   ]
  },
  {
   "cell_type": "code",
   "execution_count": 78,
   "id": "a4e2b3e0-7a3b-424e-9ab6-461404ea8a95",
   "metadata": {},
   "outputs": [
    {
     "data": {
      "text/plain": [
       "779"
      ]
     },
     "execution_count": 78,
     "metadata": {},
     "output_type": "execute_result"
    }
   ],
   "source": [
    "#q12\n",
    "q12 = db.movies.count_documents({\n",
    "    \"genres\": {\"$all\": [\"Action\", \"Adventure\"]}\n",
    "})\n",
    "with open('answers/q12.pkl', 'wb') as f:\n",
    "   pickle.dump(q12, f)\n",
    "q12"
   ]
  },
  {
   "cell_type": "markdown",
   "id": "53ae970b-f825-40fd-83ec-d0499489ce1d",
   "metadata": {},
   "source": [
    "### Q13: Find all movies with an IMDb rating between 9 and 10. ###"
   ]
  },
  {
   "cell_type": "code",
   "execution_count": 80,
   "id": "e4ce87eb-1968-49a6-a0b7-7d32a762d93a",
   "metadata": {
    "scrolled": true
   },
   "outputs": [
    {
     "data": {
      "text/plain": [
       "[{'imdb': {'rating': 9.2},\n",
       "  'year': 1972,\n",
       "  'genres': ['Crime', 'Drama'],\n",
       "  'title': 'The Godfather'},\n",
       " {'imdb': {'rating': 9.1},\n",
       "  'year': 1974,\n",
       "  'genres': ['Crime', 'Drama'],\n",
       "  'title': 'The Godfather: Part II'},\n",
       " {'genres': ['Drama', 'History'],\n",
       "  'title': 'I, Claudius',\n",
       "  'year': 1976,\n",
       "  'imdb': {'rating': 9}}]"
      ]
     },
     "execution_count": 80,
     "metadata": {},
     "output_type": "execute_result"
    }
   ],
   "source": [
    "#q13\n",
    "q13 = list(db.movies.find({\n",
    "    \"imdb.rating\": {\n",
    "        \"$gte\": 9,\n",
    "        \"$lte\": 10\n",
    "    \n",
    "    }\n",
    "},{\"title\":1,\"imdb.rating\":1,\"genres\":1,\"year\":1,\"_id\":0}))\n",
    "with open('answers/q13.pkl', 'wb') as f:\n",
    "   pickle.dump(q13, f)\n",
    "q13[:3]"
   ]
  },
  {
   "cell_type": "markdown",
   "id": "fc19d085-af20-4b84-8141-9c7f9727aaa5",
   "metadata": {},
   "source": [
    "### Q14: Count the number of movies with exactly 3 directors. ###"
   ]
  },
  {
   "cell_type": "code",
   "execution_count": 82,
   "id": "f198017f-e802-427d-8bd0-ce35ed83269c",
   "metadata": {},
   "outputs": [
    {
     "data": {
      "text/plain": [
       "181"
      ]
     },
     "execution_count": 82,
     "metadata": {},
     "output_type": "execute_result"
    }
   ],
   "source": [
    "#q14\n",
    "q14 = db.movies.count_documents({\n",
    "        \"directors\": {\n",
    "                \"$size\": 3\n",
    "        }\n",
    "    \n",
    "})\n",
    "with open('answers/q14.pkl', 'wb') as f:\n",
    "   pickle.dump(q14, f)\n",
    "q14"
   ]
  },
  {
   "cell_type": "markdown",
   "id": "6df96cff-f26b-468e-b395-234396722a0b",
   "metadata": {},
   "source": [
    "### Q15: Count the number of movies with at least 3 directors. ###"
   ]
  },
  {
   "cell_type": "code",
   "execution_count": 95,
   "id": "c7cc4cbb-f1a8-4939-8358-03a7ef13d856",
   "metadata": {},
   "outputs": [
    {
     "data": {
      "text/plain": [
       "296"
      ]
     },
     "execution_count": 95,
     "metadata": {},
     "output_type": "execute_result"
    }
   ],
   "source": [
    "#q15\n",
    "q15 = db.movies.count_documents({\n",
    "    \"$expr\": {\n",
    "        \"$gte\": [\n",
    "            { \"$size\": { \"$ifNull\": [\"$directors\", []] } }, 3\n",
    "        ]\n",
    "    }\n",
    "})\n",
    "with open('answers/q15.pkl', 'wb') as f:\n",
    "   pickle.dump(q15, f)\n",
    "q15"
   ]
  },
  {
   "cell_type": "markdown",
   "id": "021db930-c4c6-4ffd-8c44-f047769e9b19",
   "metadata": {},
   "source": [
    "### Q16: Find the total number of comments made on movies released in 2010. ###"
   ]
  },
  {
   "cell_type": "code",
   "execution_count": 115,
   "id": "7b3e6b2f-3def-414b-aafe-edf3652c077a",
   "metadata": {},
   "outputs": [
    {
     "data": {
      "text/plain": [
       "510"
      ]
     },
     "execution_count": 115,
     "metadata": {},
     "output_type": "execute_result"
    }
   ],
   "source": [
    "#q16\n",
    "\n",
    "movies_2010 = list(db.movies.find({\n",
    "        \"year\": {\n",
    "            \"$eq\": 2010\n",
    "        }    \n",
    "},{\"_id\":1}))\n",
    "\n",
    "\n",
    "all_ids = [idx[\"_id\"] for idx in movies_2010]\n",
    "    \n",
    "\n",
    "q16 = db.comments.count_documents({\n",
    "    \"movie_id\": {\n",
    "        \"$in\": all_ids\n",
    "    }\n",
    "})\n",
    "with open('answers/q16.pkl', 'wb') as f:\n",
    "   pickle.dump(q16, f)\n",
    "q16"
   ]
  },
  {
   "cell_type": "markdown",
   "id": "b3b44d93-6d8b-4497-a732-2ddf51740ba9",
   "metadata": {},
   "source": [
    "### Q17: Find all unique users who have commented on \"Action\" movies. ###"
   ]
  },
  {
   "cell_type": "code",
   "execution_count": 8,
   "id": "3bb6edbe-1b9e-41bc-ac93-e2be1eccfc45",
   "metadata": {},
   "outputs": [
    {
     "data": {
      "text/plain": [
       "['Ygritte', 'Yolanda Owen', 'Yvette Roth']"
      ]
     },
     "execution_count": 8,
     "metadata": {},
     "output_type": "execute_result"
    }
   ],
   "source": [
    "#q17\n",
    "\n",
    "movies_action = list(db.movies.find({\n",
    "        \"genres\": {\n",
    "            \"$in\": [\"Action\"]\n",
    "        }    \n",
    "},{\"_id\":1}))\n",
    "\n",
    "all_action_ids = [movie[\"_id\"] for movie in movies_action]\n",
    "    \n",
    "\n",
    "q17 = sorted(list(db.comments.distinct(\"name\",{\n",
    "    \"movie_id\": {\n",
    "        \"$in\": all_action_ids\n",
    "    }\n",
    "})))\n",
    "with open('answers/q17.pkl', 'wb') as f:\n",
    "   pickle.dump(q17, f)\n",
    "q17[-3:]"
   ]
  },
  {
   "cell_type": "markdown",
   "id": "b2689627-352e-48fa-a8a0-836508be5bd6",
   "metadata": {},
   "source": [
    "### Q18: Find all comments made on or after August 13th, 2018. ###"
   ]
  },
  {
   "cell_type": "code",
   "execution_count": 13,
   "id": "967c1d8f-10c2-492d-a63c-25e4b8ae9569",
   "metadata": {},
   "outputs": [
    {
     "data": {
      "text/plain": [
       "[{'_id': ObjectId('5b71c2884a68c30929b2a9f1'),\n",
       "  'name': 'bbw6dadfe',\n",
       "  'email': '7o9jvpos7@zmu2t.koi',\n",
       "  'movie_id': ObjectId('573a13eff29313caabdd82f3'),\n",
       "  'text': 'fazzlebizzle',\n",
       "  'date': datetime.datetime(2018, 8, 13, 13, 40, 29, 394000)},\n",
       " {'_id': ObjectId('5b71c8444a68c315a80b046a'),\n",
       "  'name': 'ztcviee3w',\n",
       "  'email': 'k5s0qzhgq@bura0.b9j',\n",
       "  'movie_id': ObjectId('573a13eff29313caabdd82f3'),\n",
       "  'text': 'fazzlebizzle',\n",
       "  'date': datetime.datetime(2018, 8, 13, 14, 4, 57, 526000)},\n",
       " {'_id': ObjectId('5b721c0020a32767b53b0ef0'),\n",
       "  'name': 'y5uve0uql',\n",
       "  'email': '7ba24unv0@f93ng.s96',\n",
       "  'movie_id': ObjectId('573a13eff29313caabdd82f3'),\n",
       "  'text': 'fazzlebizzle',\n",
       "  'date': datetime.datetime(2018, 8, 13, 20, 2, 12, 67000)}]"
      ]
     },
     "execution_count": 13,
     "metadata": {},
     "output_type": "execute_result"
    }
   ],
   "source": [
    "#q18\n",
    "Aug_13 = datetime(2018,8,13)\n",
    "\n",
    "q18 = list(db.comments.find({\n",
    "        \"date\": {\n",
    "                \"$gte\":  Aug_13           \n",
    "        }\n",
    "}))\n",
    "with open('answers/q18.pkl', 'wb') as f:\n",
    "    pickle.dump(q18,f)\n",
    "q18[:3]"
   ]
  },
  {
   "cell_type": "markdown",
   "id": "c079db26-0498-4e7c-91dd-e7b2d75395f0",
   "metadata": {},
   "source": [
    "### Q19: Count the total number of comments made on movies directed by \"Steven Spielberg\". ###"
   ]
  },
  {
   "cell_type": "code",
   "execution_count": 21,
   "id": "c6a2f660-1d40-43f3-ba3f-47aa586b835b",
   "metadata": {},
   "outputs": [
    {
     "data": {
      "text/plain": [
       "1269"
      ]
     },
     "execution_count": 21,
     "metadata": {},
     "output_type": "execute_result"
    }
   ],
   "source": [
    "#q19\n",
    "steven = list(db.movies.find({\n",
    "            \"directors\": {\n",
    "                \"$in\": [\"Steven Spielberg\"]\n",
    "            }\n",
    "},{\"_id\":1}))\n",
    "\n",
    "all_id = [idx[\"_id\"] for idx in steven]\n",
    "q19 = db.comments.count_documents({\n",
    "        \"movie_id\" : {\n",
    "            \"$in\": all_id\n",
    "        }\n",
    "    \n",
    "})\n",
    "with open('answers/q19.pkl', 'wb') as f:\n",
    "    pickle.dump(q19,f)\n",
    "q19"
   ]
  },
  {
   "cell_type": "markdown",
   "id": "77c4131d-5132-48a4-8cc3-82359bbbc54a",
   "metadata": {},
   "source": [
    "### Q20: Find the 10 most recent movies with an IMDb rating greater than 9.0. ###"
   ]
  },
  {
   "cell_type": "code",
   "execution_count": 30,
   "id": "d853e9fd-7ac0-4c87-bf88-14027b1665e1",
   "metadata": {},
   "outputs": [
    {
     "data": {
      "text/plain": [
       "[{'title': 'A Brave Heart: The Lizzie Velasquez Story',\n",
       "  'released': datetime.datetime(2015, 9, 25, 0, 0),\n",
       "  'imdb': {'rating': 9.4}},\n",
       " {'title': 'The Real Miyagi',\n",
       "  'released': datetime.datetime(2015, 2, 20, 0, 0),\n",
       "  'imdb': {'rating': 9.3}},\n",
       " {'title': 'Over the Garden Wall',\n",
       "  'released': datetime.datetime(2014, 11, 3, 0, 0),\n",
       "  'imdb': {'rating': 9.2}},\n",
       " {'title': 'Frozen Planet',\n",
       "  'released': datetime.datetime(2012, 3, 18, 0, 0),\n",
       "  'imdb': {'rating': 9.2}},\n",
       " {'title': 'Human Planet',\n",
       "  'released': datetime.datetime(2011, 1, 13, 0, 0),\n",
       "  'imdb': {'rating': 9.2}},\n",
       " {'title': 'Life',\n",
       "  'released': datetime.datetime(2009, 10, 12, 0, 0),\n",
       "  'imdb': {'rating': 9.2}},\n",
       " {'title': 'Planet Earth',\n",
       "  'released': datetime.datetime(2007, 3, 25, 0, 0),\n",
       "  'imdb': {'rating': 9.5}},\n",
       " {'title': 'The Blue Planet',\n",
       "  'released': datetime.datetime(2002, 1, 27, 0, 0),\n",
       "  'imdb': {'rating': 9.2}},\n",
       " {'title': 'Band of Brothers',\n",
       "  'released': datetime.datetime(2001, 9, 9, 0, 0),\n",
       "  'imdb': {'rating': 9.6}},\n",
       " {'title': 'Pride and Prejudice',\n",
       "  'released': datetime.datetime(1996, 1, 14, 0, 0),\n",
       "  'imdb': {'rating': 9.1}}]"
      ]
     },
     "execution_count": 30,
     "metadata": {},
     "output_type": "execute_result"
    }
   ],
   "source": [
    "#q20\n",
    "\n",
    "q20 = list(db.movies.find({\n",
    "    \"imdb.rating\": {\"$gt\": 9}\n",
    "},{\"title\":1,\"released\":1,\"imdb.rating\":1,\"_id\":0}).sort(\"released\",-1).limit(10))\n",
    "with open('answers/q20.pkl','wb') as f:\n",
    "    pickle.dump(q20,f)\n",
    "q20"
   ]
  },
  {
   "cell_type": "markdown",
   "id": "a4c9879a-16f2-41e5-8ffc-e0cf8a67ec4d",
   "metadata": {},
   "source": [
    "# Section 2: Medium MQL operations #"
   ]
  },
  {
   "cell_type": "markdown",
   "id": "d244d2bc-0139-4132-bb1d-75a42e7c9616",
   "metadata": {},
   "source": [
    "### Q21: Find the total number of movies that have no comments. ###"
   ]
  },
  {
   "cell_type": "code",
   "execution_count": 13,
   "id": "2d5bc1ec-d458-4cbe-8681-3e5a07b97f85",
   "metadata": {},
   "outputs": [
    {
     "data": {
      "text/plain": [
       "16090"
      ]
     },
     "execution_count": 13,
     "metadata": {},
     "output_type": "execute_result"
    }
   ],
   "source": [
    "#q21 \n",
    "commented_movies = list(db.comments.distinct(\"movie_id\"))\n",
    "\n",
    "q21 = db.movies.count_documents({\n",
    "    \"_id\": {\n",
    "        \"$nin\": commented_movies\n",
    "    }\n",
    "})\n",
    "with open(\"answers/q21.pkl\",\"wb\") as f:\n",
    "    pickle.dump(q21,f)\n",
    "q21"
   ]
  },
  {
   "cell_type": "markdown",
   "id": "7f0d2ebf-67da-47a0-946e-21cdbfdba7e2",
   "metadata": {},
   "source": [
    "### Q22: Find the total number of movies where the title starts with \"The\". ###"
   ]
  },
  {
   "cell_type": "code",
   "execution_count": 16,
   "id": "453dbcbc-4af9-42bd-bd9b-b42e1088c9b7",
   "metadata": {},
   "outputs": [
    {
     "data": {
      "text/plain": [
       "4477"
      ]
     },
     "execution_count": 16,
     "metadata": {},
     "output_type": "execute_result"
    }
   ],
   "source": [
    "#q22\n",
    "q22 = db.movies.count_documents({\n",
    "    \"title\": { \n",
    "        \"$regex\": \"^The\"\n",
    "    }\n",
    "})\n",
    "with open(\"answers/q22.pkl\",\"wb\") as f:\n",
    "    pickle.dump(q22,f)\n",
    "\n",
    "q22"
   ]
  },
  {
   "cell_type": "markdown",
   "id": "787ca52c-c888-4f99-a743-771ba99f9453",
   "metadata": {},
   "source": [
    "### Q23: Find the average IMDb rating of all \"Action\" movies. ###"
   ]
  },
  {
   "cell_type": "code",
   "execution_count": 24,
   "id": "e4173efc-9d39-46c1-b9f9-2a92fb566af8",
   "metadata": {},
   "outputs": [
    {
     "data": {
      "text/plain": [
       "[{'average_rating': 6.38}]"
      ]
     },
     "execution_count": 24,
     "metadata": {},
     "output_type": "execute_result"
    }
   ],
   "source": [
    "#q23\n",
    "pipe = [\n",
    "    {\"$match\": {\n",
    "        \"genres\" : {\n",
    "            \"$in\" : [\"Action\"] \n",
    "        }\n",
    "    }\n",
    "    },\n",
    "    {\"$group\":{\n",
    "        \"_id\": None,\n",
    "        \"average_rating\": {\n",
    "            \"$avg\": \"$imdb.rating\"\n",
    "        }\n",
    "        \n",
    "    }},\n",
    "    {\"$project\":{\n",
    "        \"_id\":0,\n",
    "        \"average_rating\": {\n",
    "            \"$round\": [\"$average_rating\",2]\n",
    "        }\n",
    "    }}\n",
    "    \n",
    "]\n",
    "q23 = list(db.movies.aggregate(pipe))\n",
    "with open(\"answers/q23.pkl\", \"wb\") as f:\n",
    "    pickle.dump(q23,f)\n",
    "\n",
    "q23"
   ]
  },
  {
   "cell_type": "markdown",
   "id": "c6d0e733-1384-4066-9b1f-b10ecd778a77",
   "metadata": {},
   "source": [
    "### Q24: Find the top 5 users who have made the most comments. ###"
   ]
  },
  {
   "cell_type": "code",
   "execution_count": 36,
   "id": "f94abfc5-e24f-449f-b1c2-51246226c558",
   "metadata": {},
   "outputs": [
    {
     "data": {
      "text/plain": [
       "[{'_id': 'Mace Tyrell', 'total_comments': 331},\n",
       " {'_id': 'Missandei', 'total_comments': 327},\n",
       " {'_id': 'The High Sparrow', 'total_comments': 315},\n",
       " {'_id': 'Sansa Stark', 'total_comments': 308},\n",
       " {'_id': 'Rodrik Cassel', 'total_comments': 305}]"
      ]
     },
     "execution_count": 36,
     "metadata": {},
     "output_type": "execute_result"
    }
   ],
   "source": [
    "#q24\n",
    "pipe = [\n",
    "    {\"$group\":{\n",
    "        \"_id\": \"$name\",\n",
    "        \"total_comments\":{\n",
    "            \"$sum\": 1\n",
    "        }\n",
    "    }\n",
    "    },\n",
    "    {\"$sort\": {\"total_comments\": -1, \"_id\":1}},\n",
    "    {\"$limit\": 5\n",
    "    }\n",
    "]\n",
    "q24= list(db.comments.aggregate(pipe))\n",
    "with open(\"answers/q24.pkl\", \"wb\") as f:\n",
    "    pickle.dump(q24,f)\n",
    "q24"
   ]
  },
  {
   "cell_type": "markdown",
   "id": "8de70aa4-98b7-49ed-a4fc-4a97f9dbb1bd",
   "metadata": {},
   "source": [
    "### Q25: Find the 5 most commented movies in the database. ###"
   ]
  },
  {
   "cell_type": "code",
   "execution_count": 41,
   "id": "1045a5a1-f148-468a-be4a-55ef26be681f",
   "metadata": {},
   "outputs": [
    {
     "data": {
      "text/plain": [
       "[{'_id': ObjectId('573a13bff29313caabd5e91e'), 'total_comments': 161},\n",
       " {'_id': ObjectId('573a13abf29313caabd25582'), 'total_comments': 158},\n",
       " {'_id': ObjectId('573a13a5f29313caabd159a9'), 'total_comments': 158},\n",
       " {'_id': ObjectId('573a13a3f29313caabd0d1e3'), 'total_comments': 158},\n",
       " {'_id': ObjectId('573a13b3f29313caabd3b647'), 'total_comments': 158}]"
      ]
     },
     "execution_count": 41,
     "metadata": {},
     "output_type": "execute_result"
    }
   ],
   "source": [
    "#q25\n",
    "\n",
    "pipe = [\n",
    "    {\"$group\":{\n",
    "        \"_id\": \"$movie_id\",\n",
    "        \"total_comments\": {\n",
    "            \"$sum\": 1\n",
    "            \n",
    "        }\n",
    "    }\n",
    "    \n",
    "    },{\"$lookup\":{\n",
    "        \"from\": \"movies\",\n",
    "        \"localField\": \"_id\",\n",
    "        \"foreignField\": \"_id\",\n",
    "        \"as\" : \"movie\"      \n",
    "        \n",
    "    }\n",
    "        \n",
    "    },{\"$unwind\": \"$movie\"\n",
    "        \n",
    "    },{\"$sort\":{\n",
    "        \"total_comments\": -1, \"movie.title\": 1\n",
    "    }},\n",
    "    {\"$limit\":5},\n",
    "    {\"$project\":{\n",
    "        \"_id\": 1,\n",
    "        \"total_comments\" :1\n",
    "    }}\n",
    "]\n",
    "q25= list(db.comments.aggregate(pipe))\n",
    "with open(\"answers/q25.pkl\", \"wb\") as f:\n",
    "    pickle.dump(q25,f)\n",
    "q25"
   ]
  },
  {
   "cell_type": "markdown",
   "id": "fb1bc828-108b-486e-8f1e-a6f7abb51988",
   "metadata": {},
   "source": [
    "# Section 3: Hard MQL commands #"
   ]
  },
  {
   "cell_type": "markdown",
   "id": "dd313372-6b37-4d36-80ff-df9781658a58",
   "metadata": {},
   "source": [
    "### Q26: Find the average runtime of all movies in the \"Sci-Fi\" genre. ###"
   ]
  },
  {
   "cell_type": "code",
   "execution_count": 44,
   "id": "d9c944e9-7f05-4e30-be34-f1a8259a8d5b",
   "metadata": {},
   "outputs": [
    {
     "data": {
      "text/plain": [
       "[{'average_runtime': 103.05}]"
      ]
     },
     "execution_count": 44,
     "metadata": {},
     "output_type": "execute_result"
    }
   ],
   "source": [
    "#q26\n",
    "pipe = [{\"$match\":{\n",
    "    \"genres\": {\"$in\":[\"Sci-Fi\"]}\n",
    "}},\n",
    "        {\"$group\":{\n",
    "        \"_id\": None,\n",
    "        \"average_runtime\":{\n",
    "            \"$avg\": \"$runtime\"\n",
    "        }\n",
    "    }\n",
    "    },\n",
    "    {\"$project\":{\n",
    "        \"_id\":0,\n",
    "        \"average_runtime\": {\n",
    "            \"$round\": [\"$average_runtime\",2]\n",
    "        }\n",
    "    }}\n",
    "]\n",
    "q26= list(db.movies.aggregate(pipe))\n",
    "with open(\"answers/q26.pkl\", \"wb\") as f:\n",
    "    pickle.dump(q26,f)\n",
    "q26"
   ]
  },
  {
   "cell_type": "markdown",
   "id": "bd64edc6-4ee1-4034-a2d3-b3e14e18db5c",
   "metadata": {},
   "source": [
    "### Q27: Find the top 3 directors by the number of movies they directed. ###"
   ]
  },
  {
   "cell_type": "code",
   "execution_count": 52,
   "id": "ed58789f-fdc2-4e1d-b36d-48aaae417aa2",
   "metadata": {},
   "outputs": [
    {
     "data": {
      "text/plain": [
       "[{'_id': 'Woody Allen', 'count': 40},\n",
       " {'_id': 'John Ford', 'count': 35},\n",
       " {'_id': 'John Huston', 'count': 34}]"
      ]
     },
     "execution_count": 52,
     "metadata": {},
     "output_type": "execute_result"
    }
   ],
   "source": [
    "#q27\n",
    "pipe = [\n",
    "    {\"$unwind\":\n",
    "        \"$directors\"\n",
    "    },{\"$group\":{\n",
    "        \"_id\": \"$directors\",\n",
    "        \"count\":{\"$sum\": 1}\n",
    "    }},\n",
    "    {\"$sort\": {\n",
    "        \"count\": -1,\n",
    "        \"_id\": 1\n",
    "    }},{\"$limit\": 3}\n",
    "    \n",
    "]\n",
    "q27= list(db.movies.aggregate(pipe))\n",
    "with open(\"answers/q27.pkl\", \"wb\") as f:\n",
    "    pickle.dump(q27,f)\n",
    "q27"
   ]
  },
  {
   "cell_type": "markdown",
   "id": "e3d42b85-bdc7-498b-893b-d8de4e909bd9",
   "metadata": {},
   "source": [
    "### Q28: Find the top 5 most active users (based on the number of comments). ###"
   ]
  },
  {
   "cell_type": "code",
   "execution_count": 70,
   "id": "a3c4da77-253a-45c8-aa54-391399f7749c",
   "metadata": {},
   "outputs": [
    {
     "data": {
      "text/plain": [
       "[{'comment_count': 331, 'email': 'roger_ashton-griffiths@gameofthron.es'},\n",
       " {'comment_count': 327, 'email': 'nathalie_emmanuel@gameofthron.es'},\n",
       " {'comment_count': 315, 'email': 'jonathan_pryce@gameofthron.es'},\n",
       " {'comment_count': 308, 'email': 'sophie_turner@gameofthron.es'},\n",
       " {'comment_count': 305, 'email': 'ron_donachie@gameofthron.es'}]"
      ]
     },
     "execution_count": 70,
     "metadata": {},
     "output_type": "execute_result"
    }
   ],
   "source": [
    "#q28\n",
    "pipe = [{\"$group\":{\n",
    "        \"_id\": \"$email\",\n",
    "        \"comment_count\":{\n",
    "            \"$sum\": 1\n",
    "        }\n",
    "    }}\n",
    "    ,{\"$project\": {\n",
    "        \"_id\": 0,\n",
    "        \"email\": \"$_id\",\n",
    "        \"comment_count\": 1\n",
    "    }},\n",
    "    {\"$sort\": {\"comment_count\": -1}},\n",
    "    {\"$limit\": 5\n",
    "    }]\n",
    "q28= list(db.comments.aggregate(pipe))\n",
    "with open(\"answers/q28.pkl\", \"wb\") as f:\n",
    "    pickle.dump(q28,f)\n",
    "q28"
   ]
  },
  {
   "cell_type": "markdown",
   "id": "e36f6640-344b-4d8e-a7d4-e2c922e95a78",
   "metadata": {},
   "source": [
    "### Q29: Find the average IMDb rating for each genre and list the top 5 genres with the highest average rating. ###"
   ]
  },
  {
   "cell_type": "code",
   "execution_count": 82,
   "id": "c2c33953-52aa-4ba9-81df-8fdf615ac97b",
   "metadata": {},
   "outputs": [
    {
     "data": {
      "text/plain": [
       "[{'_id': 'Film-Noir', 'average_rating': 7.5},\n",
       " {'_id': 'Documentary', 'average_rating': 7.37},\n",
       " {'_id': 'Short', 'average_rating': 7.36},\n",
       " {'_id': 'News', 'average_rating': 7.25},\n",
       " {'_id': 'History', 'average_rating': 7.2}]"
      ]
     },
     "execution_count": 82,
     "metadata": {},
     "output_type": "execute_result"
    }
   ],
   "source": [
    "#q29\n",
    "pipe = [{\"$unwind\":\n",
    "        \"$genres\"},\n",
    "    {\"$group\":{\n",
    "        \"_id\": \"$genres\",\n",
    "        \"average_rating\": {\n",
    "            \"$avg\": \"$imdb.rating\"\n",
    "        }\n",
    "        \n",
    "    }},\n",
    "    {\"$project\":{\n",
    "        \"_id\":1,\n",
    "        \"average_rating\": {\n",
    "            \"$round\": [\"$average_rating\",2]\n",
    "        }\n",
    "    }},\n",
    "    {\"$sort\": {\n",
    "        \"average_rating\": -1\n",
    "    }},{\"$limit\": 5}\n",
    "    \n",
    "]\n",
    "q29 = list(db.movies.aggregate(pipe))\n",
    "with open(\"answers/q29.pkl\", \"wb\") as f:\n",
    "    pickle.dump(q29,f)\n",
    "\n",
    "q29"
   ]
  },
  {
   "cell_type": "markdown",
   "id": "4a5fc930-2a42-434d-8c55-447e2b157685",
   "metadata": {},
   "source": [
    "### Q30: Find all users who have commented on both \"Action\" and \"Drama\" movies. ###"
   ]
  },
  {
   "cell_type": "code",
   "execution_count": 92,
   "id": "7e647b91-5fef-43e3-82d5-73c3eba6a479",
   "metadata": {},
   "outputs": [
    {
     "data": {
      "text/plain": [
       "[{'_id': 'Alliser Thorne'}, {'_id': 'Amy Phillips'}, {'_id': 'Amy Ramirez'}]"
      ]
     },
     "execution_count": 92,
     "metadata": {},
     "output_type": "execute_result"
    }
   ],
   "source": [
    "#q30\n",
    "pipe = [\n",
    "\n",
    "    {\"$lookup\": {\n",
    "        \"from\": \"movies\",\n",
    "        \"localField\": \"movie_id\",\n",
    "        \"foreignField\": \"_id\",\n",
    "        \"as\": \"movie\"\n",
    "    }},\n",
    "    {\"$unwind\": \"$movie\"},\n",
    "    {\"$unwind\": \"$movie.genres\"},\n",
    "    {\"$group\": {\n",
    "        \"_id\":\"$name\",\n",
    "        \"genres_commented\": {\n",
    "            \"$addToSet\": \"$movie.genres\"\n",
    "        }\n",
    "    }},\n",
    "    {\"$match\":{\n",
    "        \"genres_commented\": {\n",
    "            \"$all\": [\"Action\",\"Drama\"]\n",
    "        }\n",
    "    }},{\"$project\": {\n",
    "        \"_id\": 1\n",
    "    }},{\"$sort\": {\n",
    "        \"_id\": 1\n",
    "    }}\n",
    "]\n",
    "\n",
    "\n",
    "q30 = list(db.comments.aggregate(pipe))\n",
    "with open(\"answers/q30.pkl\", \"wb\") as f:\n",
    "    pickle.dump(q30,f)\n",
    "q30[:3]"
   ]
  },
  {
   "cell_type": "markdown",
   "id": "8c607b09-a04a-42db-838b-f1a6f41703d1",
   "metadata": {},
   "source": [
    "### Q31: Find the user who commented on the most distinct movies (i.e., most distinct movie_ids). ###"
   ]
  },
  {
   "cell_type": "code",
   "execution_count": 97,
   "id": "013d380e-2b20-4296-b5de-bc6d5fe63f5a",
   "metadata": {},
   "outputs": [
    {
     "data": {
      "text/plain": [
       "[{'_id': 'Mace Tyrell', 'unique_movies': 270}]"
      ]
     },
     "execution_count": 97,
     "metadata": {},
     "output_type": "execute_result"
    }
   ],
   "source": [
    "#q31 \n",
    "\n",
    "pipe= [\n",
    "    {\"$group\":{\n",
    "        \"_id\": \"$name\",\n",
    "        \"unique_movies\" : {\n",
    "            \"$addToSet\": \"$movie_id\"\n",
    "        }\n",
    "    }}, {\"$project\": {\n",
    "        \"_id\": 1,\n",
    "        \"unique_movies\": {\n",
    "            \"$size\": \"$unique_movies\"\n",
    "            \n",
    "        }\n",
    "    }},\n",
    "    {\"$sort\":{\n",
    "        \"unique_movies\": -1\n",
    "    }},\n",
    "    {\"$limit\": 1}\n",
    "    \n",
    "]\n",
    "q31 = list(db.comments.aggregate(pipe))\n",
    "with open(\"answers/q31.pkl\", \"wb\") as f:\n",
    "    pickle.dump(q31,f)\n",
    "q31"
   ]
  },
  {
   "cell_type": "markdown",
   "id": "11a2f879-ee1f-4e46-ac05-aa1339c6fa9e",
   "metadata": {},
   "source": [
    "#  Section 4: GeoJSON #"
   ]
  },
  {
   "cell_type": "code",
   "execution_count": 5,
   "id": "ba3747be-14ae-45ae-aff3-613fcab186a7",
   "metadata": {},
   "outputs": [],
   "source": [
    "import geopandas as gpd\n",
    "import matplotlib.pyplot as plt\n",
    "from shapely.geometry import Point\n",
    "\n",
    "# Function to plot theaters on a map\n",
    "def plot_theaters(theaters, map_type, filename):\n",
    "    assert map_type in ['wi', 'madison']\n",
    "    assert filename in ['q32', 'q33', 'q34']\n",
    "    \n",
    "    # Convert theater coordinates to a GeoDataFrame\n",
    "    gdf = gpd.GeoDataFrame(theaters, geometry=gpd.points_from_xy(\n",
    "        [theater['location']['geo']['coordinates'][0] for theater in theaters],\n",
    "        [theater['location']['geo']['coordinates'][1] for theater in theaters]\n",
    "    ))\n",
    "\n",
    "    world = gpd.read_file(\"wi_limits.geojson\")\n",
    "    if map_type == 'madison':\n",
    "        world = gpd.read_file(\"madison_limits.geojson\")\n",
    "    gdf = gdf.set_crs(world.crs)\n",
    "    \n",
    "    # Plot\n",
    "    ax = world.plot(figsize=(10, 6), color='lightgray', edgecolor='black')\n",
    "    gdf.plot(ax=ax, marker='o', color='red', markersize=5)\n",
    "    plt.title(\"Theater Locations\")\n",
    "\n",
    "    plt.grid(True)\n",
    "    plt.savefig(f'{filename}.png')\n",
    "    plt.show()"
   ]
  },
  {
   "cell_type": "markdown",
   "id": "f6123f51-8ee7-4839-aa33-31665cf54164",
   "metadata": {},
   "source": [
    "### Q32: Find all theaters located in Wisconsin (WI) and plot them on a map of WI. ###"
   ]
  },
  {
   "cell_type": "code",
   "execution_count": 12,
   "id": "43c5b3a8-d87b-4797-b8a6-a5378ec04063",
   "metadata": {},
   "outputs": [
    {
     "data": {
      "image/png": "[encoded data removed]",
      "text/plain": [
       "<Figure size 1000x600 with 1 Axes>"
      ]
     },
     "metadata": {},
     "output_type": "display_data"
    }
   ],
   "source": [
    "#q32\n",
    "theaters = list(db.theaters.find({\"location.address.state\": \"WI\"}))\n",
    "plot_theaters(theaters, map_type = \"wi\", filename = \"q32\")\n"
   ]
  },
  {
   "cell_type": "markdown",
   "id": "5fb5e068-5668-4da6-97b8-f022203eb29f",
   "metadata": {},
   "source": [
    "### Q33: Find the top 2 theaters nearest to the Peninsula State Park and plot them on a map of WI. ###"
   ]
  },
  {
   "cell_type": "code",
   "execution_count": 23,
   "id": "59abab0b-6088-4ebc-a29c-fc2a70f21a0f",
   "metadata": {},
   "outputs": [
    {
     "data": {
      "image/png": "[encoded data removed]",
      "text/plain": [
       "<Figure size 1000x600 with 1 Axes>"
      ]
     },
     "metadata": {},
     "output_type": "display_data"
    },
    {
     "data": {
      "text/plain": [
       "[{'_id': ObjectId('59a47287cfa9a3a73e51e9b1'),\n",
       "  'theaterId': 2735,\n",
       "  'location': {'address': {'street1': '639 Bay Park Square',\n",
       "    'city': 'Green Bay',\n",
       "    'state': 'WI',\n",
       "    'zipcode': '54304'},\n",
       "   'geo': {'type': 'Point', 'coordinates': [-88.067962, 44.484684]}}},\n",
       " {'_id': ObjectId('59a47287cfa9a3a73e51ea40'),\n",
       "  'theaterId': 28,\n",
       "  'location': {'address': {'street1': '825 Pilgrim Way',\n",
       "    'street2': 'Ste A',\n",
       "    'city': 'Green Bay',\n",
       "    'state': 'WI',\n",
       "    'zipcode': '54304'},\n",
       "   'geo': {'type': 'Point', 'coordinates': [-88.06794, 44.481197]}}}]"
      ]
     },
     "execution_count": 23,
     "metadata": {},
     "output_type": "execute_result"
    }
   ],
   "source": [
    "#q33\n",
    "coordinates =[-87.22109, 45.15602]  \n",
    "db.theaters.create_index({\"location.geo\": \"2dsphere\"})\n",
    "nearest_theaters = list(db.theaters.find({\n",
    "    \"location.geo\": {\n",
    "        \"$near\": {\n",
    "            \"$geometry\":{\n",
    "                \"type\": \"Point\",\n",
    "                \"coordinates\": coordinates\n",
    "            }\n",
    "        }\n",
    "    }\n",
    "},limit = 2))\n",
    "plot_theaters(nearest_theaters, map_type=\"wi\", filename=\"q33\")\n",
    "# check there is actually 2 there\n",
    "nearest_theaters"
   ]
  },
  {
   "cell_type": "markdown",
   "id": "5dd7997f-88b1-4226-8faf-82677b7e7cb6",
   "metadata": {},
   "source": [
    "### Q34: Find theaters within 10 miles of the UW-Madison and plot them on a map of Madison. ###\n"
   ]
  },
  {
   "cell_type": "code",
   "execution_count": 21,
   "id": "8c32e51a-a6f6-432c-9401-87ea521ad2c4",
   "metadata": {},
   "outputs": [
    {
     "data": {
      "image/png": "[encoded data removed]",
      "text/plain": [
       "<Figure size 1000x600 with 1 Axes>"
      ]
     },
     "metadata": {},
     "output_type": "display_data"
    }
   ],
   "source": [
    "#q34\n",
    "uw_coordinates = [-89.40816, 43.07540]  \n",
    "db.theaters.create_index({\"location.geo\": \"2dsphere\"})\n",
    "miles_to_meters = 10 * 1609.34\n",
    "uw_theaters = list(db.theaters.find({\n",
    "    \"location.geo\": {\n",
    "        \"$near\": {\n",
    "            \"$geometry\":{\n",
    "                \"type\": \"Point\",\n",
    "                \"coordinates\": uw_coordinates\n",
    "            },\"$maxDistance\" : miles_to_meters\n",
    "        }\n",
    "    }\n",
    "}))\n",
    "plot_theaters(uw_theaters, map_type=\"madison\", filename=\"q34\")"
   ]
  },
  {
   "cell_type": "code",
   "execution_count": 22,
   "id": "26c787c8-304e-4a2a-a3ef-084e257f726e",
   "metadata": {
    "scrolled": true
   },
   "outputs": [
    {
     "name": "stdout",
     "output_type": "stream",
     "text": [
      "\u001b[1m============================= test session starts ==============================\u001b[0m\n",
      "collected 39 items                                                             \u001b[0m\n",
      "\n",
      "\u001b[32mPASSED\u001b[0m\u001b[32m                                   [  2%]\u001b[0m\n",
      "\u001b[32mPASSED\u001b[0m\u001b[32m                                       [  5%]\u001b[0m\n",
      "autograder.py::test_mongodb_connection \u001b[32mPASSED\u001b[0m\u001b[32m                            [  7%]\u001b[0m\n",
      "autograder.py::test_load_files_to_mongo \u001b[32mPASSED\u001b[0m\u001b[32m                           [ 10%]\u001b[0m\n",
      "autograder.py::test_question_comments \u001b[32mPASSED\u001b[0m\u001b[32m                             [ 12%]\u001b[0m\n",
      "autograder.py::test_numeric_match[5] \u001b[32mPASSED (0.1/0.1)\u001b[0m\u001b[32m                    [ 15%]\u001b[0m\n",
      "autograder.py::test_numeric_match[6] \u001b[32mPASSED (0.1/0.1)\u001b[0m\u001b[32m                    [ 17%]\u001b[0m\n",
      "autograder.py::test_numeric_match[7] \u001b[32mPASSED (0.1/0.1)\u001b[0m\u001b[32m                    [ 20%]\u001b[0m\n",
      "autograder.py::test_numeric_match[8] \u001b[32mPASSED (0.1/0.1)\u001b[0m\u001b[32m                    [ 23%]\u001b[0m\n",
      "autograder.py::test_numeric_match[9] \u001b[32mPASSED (0.1/0.1)\u001b[0m\u001b[32m                    [ 25%]\u001b[0m\n",
      "autograder.py::test_numeric_match[12] \u001b[32mPASSED (0.1/0.1)\u001b[0m\u001b[32m                   [ 28%]\u001b[0m\n",
      "autograder.py::test_numeric_match[14] \u001b[32mPASSED (0.1/0.1)\u001b[0m\u001b[32m                   [ 30%]\u001b[0m\n",
      "autograder.py::test_numeric_match[15] \u001b[32mPASSED (0.1/0.1)\u001b[0m\u001b[32m                   [ 33%]\u001b[0m\n",
      "autograder.py::test_numeric_match[16] \u001b[32mPASSED (0.1/0.1)\u001b[0m\u001b[32m                   [ 35%]\u001b[0m\n",
      "autograder.py::test_numeric_match[19] \u001b[32mPASSED (0.1/0.1)\u001b[0m\u001b[32m                   [ 38%]\u001b[0m\n",
      "autograder.py::test_numeric_match[21] \u001b[32mPASSED (0.2/0.2)\u001b[0m\u001b[32m                   [ 41%]\u001b[0m\n",
      "autograder.py::test_numeric_match[22] \u001b[32mPASSED (0.2/0.2)\u001b[0m\u001b[32m                   [ 43%]\u001b[0m\n",
      "autograder.py::test_unordered_match[1] \u001b[32mPASSED (0.1/0.1)\u001b[0m\u001b[32m                  [ 46%]\u001b[0m\n",
      "autograder.py::test_unordered_match[2] \u001b[32mPASSED (0.1/0.1)\u001b[0m\u001b[32m                  [ 48%]\u001b[0m\n",
      "autograder.py::test_unordered_match[4] \u001b[32mPASSED (0.1/0.1)\u001b[0m\u001b[32m                  [ 51%]\u001b[0m\n",
      "\u001b[32mPASSED (0.1/0.1)\u001b[0m\u001b[32m                 [ 53%]\u001b[0m\n",
      "autograder.py::test_unordered_match[18] \u001b[32mPASSED (0.1/0.1)\u001b[0m\u001b[32m                 [ 56%]\u001b[0m\n",
      "autograder.py::test_exact_match[3] \u001b[32mPASSED (0.1/0.1)\u001b[0m\u001b[32m                      [ 58%]\u001b[0m\n",
      "autograder.py::test_exact_match[10] \u001b[32mPASSED (0.1/0.1)\u001b[0m\u001b[32m                     [ 61%]\u001b[0m\n",
      "autograder.py::test_exact_match[11] \u001b[32mPASSED (0.1/0.1)\u001b[0m\u001b[32m                     [ 64%]\u001b[0m\n",
      "autograder.py::test_exact_match[17] \u001b[32mPASSED (0.1/0.1)\u001b[0m\u001b[32m                     [ 66%]\u001b[0m\n",
      "autograder.py::test_exact_match[20] \u001b[32mPASSED (0.1/0.1)\u001b[0m\u001b[32m                     [ 69%]\u001b[0m\n",
      "autograder.py::test_exact_match[23] \u001b[32mPASSED (0.2/0.2)\u001b[0m\u001b[32m                     [ 71%]\u001b[0m\n",
      "autograder.py::test_exact_match[24] \u001b[32mPASSED (0.2/0.2)\u001b[0m\u001b[32m                     [ 74%]\u001b[0m\n",
      "autograder.py::test_exact_match[25] \u001b[32mPASSED (0.2/0.2)\u001b[0m\u001b[32m                     [ 76%]\u001b[0m\n",
      "autograder.py::test_exact_match[26] \u001b[32mPASSED (0.3/0.3)\u001b[0m\u001b[32m                     [ 79%]\u001b[0m\n",
      "autograder.py::test_exact_match[27] \u001b[32mPASSED (0.3/0.3)\u001b[0m\u001b[32m                     [ 82%]\u001b[0m\n",
      "autograder.py::test_exact_match[28] \u001b[32mPASSED (0.3/0.3)\u001b[0m\u001b[32m                     [ 84%]\u001b[0m\n",
      "autograder.py::test_exact_match[29] \u001b[32mPASSED (0.3/0.3)\u001b[0m\u001b[32m                     [ 87%]\u001b[0m\n",
      "autograder.py::test_exact_match[30] \u001b[32mPASSED (0.3/0.3)\u001b[0m\u001b[32m                     [ 89%]\u001b[0m\n",
      "autograder.py::test_exact_match[31] \u001b[32mPASSED (0.3/0.3)\u001b[0m\u001b[32m                     [ 92%]\u001b[0m\n",
      "autograder.py::test_image_questions_exist[32] \u001b[32mPASSED (0.4/0.4)\u001b[0m\u001b[32m           [ 94%]\u001b[0m\n",
      "autograder.py::test_image_questions_exist[33] \u001b[32mPASSED (0.4/0.4)\u001b[0m\u001b[32m           [ 97%]\u001b[0m\n",
      "autograder.py::test_image_questions_exist[34] \u001b[32mPASSED (0.4/0.4)\u001b[0m\u001b[32m           [100%]\u001b[0m\n",
      "\n",
      "============================== TEST SCORE SUMMARY ==============================\n",
      "Total Score: 6.00/6.00\n",
      "\u001b[32m============================== \u001b[32m\u001b[1m39 passed\u001b[0m\u001b[32m in 0.18s\u001b[0m\u001b[32m ==============================\u001b[0m\n"
     ]
    }
   ],
   "source": [
    "!pytest --no-header -vv autograder.py"
   ]
  }
 ],
 "metadata": {
  "kernelspec": {
   "display_name": "Python 3 (ipykernel)",
   "language": "python",
   "name": "python3"
  },
  "language_info": {
   "codemirror_mode": {
    "name": "ipython",
    "version": 3
   },
   "file_extension": ".py",
   "mimetype": "text/x-python",
   "name": "python",
   "nbconvert_exporter": "python",
   "pygments_lexer": "ipython3",
   "version": "3.10.12"
  }
 },
 "nbformat": 4,
 "nbformat_minor": 5
}
